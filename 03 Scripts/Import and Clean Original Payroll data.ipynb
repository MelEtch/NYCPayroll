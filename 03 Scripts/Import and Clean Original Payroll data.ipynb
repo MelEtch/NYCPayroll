{
 "cells": [
  {
   "cell_type": "markdown",
   "id": "e7a72fd0",
   "metadata": {},
   "source": [
    "#01 Importing Libraries"
   ]
  },
  {
   "cell_type": "code",
   "execution_count": 1,
   "id": "66abdc2d",
   "metadata": {},
   "outputs": [],
   "source": [
    "#Import Libraries\n",
    "import pandas as pd\n",
    "import numpy as np\n",
    "import os\n"
   ]
  },
  {
   "cell_type": "markdown",
   "id": "1ccdd9bb",
   "metadata": {},
   "source": [
    "#02 Import Data"
   ]
  },
  {
   "cell_type": "code",
   "execution_count": 2,
   "id": "79c6a57d",
   "metadata": {},
   "outputs": [],
   "source": [
    "# define path to Original Data folder\n",
    "originalDataPath= r'C:\\Users\\user\\nycpayrollanalysis\\02 Data\\originaldata'"
   ]
  },
  {
   "cell_type": "code",
   "execution_count": 3,
   "id": "2fdde4eb",
   "metadata": {},
   "outputs": [],
   "source": [
    "#define path to prepared data folder\n",
    "preparedDataPath= r'C:\\Users\\user\\nycpayrollanalysis\\02 Data\\prepareddata'"
   ]
  },
  {
   "cell_type": "code",
   "execution_count": 4,
   "id": "7a54c22e",
   "metadata": {},
   "outputs": [],
   "source": [
    "#create dataframe with dataset from nyc.gov\n",
    "df=pd.read_csv(os.path.join(originalDataPath,'Citywide_Payroll_Data__Fiscal_Year_.csv'),index_col=False,dtype=str)"
   ]
  },
  {
   "cell_type": "markdown",
   "id": "b1c6c491",
   "metadata": {},
   "source": [
    "#output shows there is mixed data types, therefore I imported all data as str.  As part of data cleaning, I must confirm data types."
   ]
  },
  {
   "cell_type": "markdown",
   "id": "75c5aeb9",
   "metadata": {},
   "source": [
    "#03 Exploratory Analysis to determine columns and variables, size of data set, shape, info, describe"
   ]
  },
  {
   "cell_type": "code",
   "execution_count": null,
   "id": "c33a19fa",
   "metadata": {},
   "outputs": [],
   "source": [
    "df.head()"
   ]
  },
  {
   "cell_type": "code",
   "execution_count": null,
   "id": "98da6bdf",
   "metadata": {},
   "outputs": [],
   "source": [
    "df.info()"
   ]
  },
  {
   "cell_type": "code",
   "execution_count": 5,
   "id": "75c92c29",
   "metadata": {},
   "outputs": [],
   "source": [
    "#convert continuous data to float64\n",
    "df['Base Salary'] = df['Base Salary'].astype('float64')\n"
   ]
  },
  {
   "cell_type": "code",
   "execution_count": 6,
   "id": "73fdc9fb",
   "metadata": {},
   "outputs": [],
   "source": [
    "df['Regular Hours'] = df['Regular Hours'].astype('float64')\n",
    "df['Regular Gross Paid'] = df['Regular Gross Paid'].astype('float64')\n",
    "df['OT Hours'] = df['OT Hours'].astype('float64')\n",
    "df['Total OT Paid'] = df['Total OT Paid'].astype('float64')\n",
    "df['Total Other Pay'] = df['Total Other Pay'].astype('float64')"
   ]
  },
  {
   "cell_type": "code",
   "execution_count": null,
   "id": "fc968457",
   "metadata": {},
   "outputs": [],
   "source": [
    "df.info()"
   ]
  },
  {
   "cell_type": "code",
   "execution_count": 7,
   "id": "a50f0bfd",
   "metadata": {},
   "outputs": [
    {
     "data": {
      "text/html": [
       "<div>\n",
       "<style scoped>\n",
       "    .dataframe tbody tr th:only-of-type {\n",
       "        vertical-align: middle;\n",
       "    }\n",
       "\n",
       "    .dataframe tbody tr th {\n",
       "        vertical-align: top;\n",
       "    }\n",
       "\n",
       "    .dataframe thead th {\n",
       "        text-align: right;\n",
       "    }\n",
       "</style>\n",
       "<table border=\"1\" class=\"dataframe\">\n",
       "  <thead>\n",
       "    <tr style=\"text-align: right;\">\n",
       "      <th></th>\n",
       "      <th>Base Salary</th>\n",
       "      <th>Regular Hours</th>\n",
       "      <th>Regular Gross Paid</th>\n",
       "      <th>OT Hours</th>\n",
       "      <th>Total OT Paid</th>\n",
       "      <th>Total Other Pay</th>\n",
       "    </tr>\n",
       "  </thead>\n",
       "  <tbody>\n",
       "    <tr>\n",
       "      <th>count</th>\n",
       "      <td>5.109775e+06</td>\n",
       "      <td>5.109775e+06</td>\n",
       "      <td>5.109775e+06</td>\n",
       "      <td>5.109775e+06</td>\n",
       "      <td>5.109775e+06</td>\n",
       "      <td>5.109775e+06</td>\n",
       "    </tr>\n",
       "    <tr>\n",
       "      <th>mean</th>\n",
       "      <td>4.434074e+04</td>\n",
       "      <td>6.597381e+02</td>\n",
       "      <td>4.246115e+04</td>\n",
       "      <td>6.298963e+01</td>\n",
       "      <td>3.336576e+03</td>\n",
       "      <td>2.915953e+03</td>\n",
       "    </tr>\n",
       "    <tr>\n",
       "      <th>std</th>\n",
       "      <td>4.294908e+04</td>\n",
       "      <td>8.857047e+02</td>\n",
       "      <td>4.027641e+04</td>\n",
       "      <td>1.644688e+02</td>\n",
       "      <td>9.421155e+03</td>\n",
       "      <td>6.003723e+03</td>\n",
       "    </tr>\n",
       "    <tr>\n",
       "      <th>min</th>\n",
       "      <td>1.000000e-02</td>\n",
       "      <td>-1.872770e+03</td>\n",
       "      <td>-2.054519e+05</td>\n",
       "      <td>-2.090000e+02</td>\n",
       "      <td>-2.649388e+04</td>\n",
       "      <td>-2.815950e+05</td>\n",
       "    </tr>\n",
       "    <tr>\n",
       "      <th>25%</th>\n",
       "      <td>3.318000e+01</td>\n",
       "      <td>0.000000e+00</td>\n",
       "      <td>3.185280e+03</td>\n",
       "      <td>0.000000e+00</td>\n",
       "      <td>0.000000e+00</td>\n",
       "      <td>0.000000e+00</td>\n",
       "    </tr>\n",
       "    <tr>\n",
       "      <th>50%</th>\n",
       "      <td>4.250000e+04</td>\n",
       "      <td>0.000000e+00</td>\n",
       "      <td>3.571858e+04</td>\n",
       "      <td>0.000000e+00</td>\n",
       "      <td>0.000000e+00</td>\n",
       "      <td>3.293000e+01</td>\n",
       "    </tr>\n",
       "    <tr>\n",
       "      <th>75%</th>\n",
       "      <td>7.922700e+04</td>\n",
       "      <td>1.820000e+03</td>\n",
       "      <td>7.509907e+04</td>\n",
       "      <td>0.000000e+00</td>\n",
       "      <td>1.107000e+02</td>\n",
       "      <td>3.403910e+03</td>\n",
       "    </tr>\n",
       "    <tr>\n",
       "      <th>max</th>\n",
       "      <td>4.147070e+05</td>\n",
       "      <td>4.171430e+03</td>\n",
       "      <td>6.723089e+05</td>\n",
       "      <td>3.692900e+03</td>\n",
       "      <td>2.559999e+05</td>\n",
       "      <td>6.500000e+05</td>\n",
       "    </tr>\n",
       "  </tbody>\n",
       "</table>\n",
       "</div>"
      ],
      "text/plain": [
       "        Base Salary  Regular Hours  Regular Gross Paid      OT Hours  \\\n",
       "count  5.109775e+06   5.109775e+06        5.109775e+06  5.109775e+06   \n",
       "mean   4.434074e+04   6.597381e+02        4.246115e+04  6.298963e+01   \n",
       "std    4.294908e+04   8.857047e+02        4.027641e+04  1.644688e+02   \n",
       "min    1.000000e-02  -1.872770e+03       -2.054519e+05 -2.090000e+02   \n",
       "25%    3.318000e+01   0.000000e+00        3.185280e+03  0.000000e+00   \n",
       "50%    4.250000e+04   0.000000e+00        3.571858e+04  0.000000e+00   \n",
       "75%    7.922700e+04   1.820000e+03        7.509907e+04  0.000000e+00   \n",
       "max    4.147070e+05   4.171430e+03        6.723089e+05  3.692900e+03   \n",
       "\n",
       "       Total OT Paid  Total Other Pay  \n",
       "count   5.109775e+06     5.109775e+06  \n",
       "mean    3.336576e+03     2.915953e+03  \n",
       "std     9.421155e+03     6.003723e+03  \n",
       "min    -2.649388e+04    -2.815950e+05  \n",
       "25%     0.000000e+00     0.000000e+00  \n",
       "50%     0.000000e+00     3.293000e+01  \n",
       "75%     1.107000e+02     3.403910e+03  \n",
       "max     2.559999e+05     6.500000e+05  "
      ]
     },
     "execution_count": 7,
     "metadata": {},
     "output_type": "execute_result"
    }
   ],
   "source": [
    "df.describe()"
   ]
  },
  {
   "cell_type": "markdown",
   "id": "34f0632d",
   "metadata": {},
   "source": [
    "#output shows there are min values below zero for hours worked and amount paid.  must confirm if this is bad data or if it appears regularly in data set"
   ]
  },
  {
   "cell_type": "code",
   "execution_count": null,
   "id": "892cd9f3",
   "metadata": {},
   "outputs": [],
   "source": [
    "df_neg = df[(df[['Regular Hours', 'Regular Gross Paid','OT Hours','Total Other Pay']] <0)]\n",
    "#(df[['a', 'b']] != 0)"
   ]
  },
  {
   "cell_type": "code",
   "execution_count": null,
   "id": "5d69e0ea",
   "metadata": {},
   "outputs": [],
   "source": [
    "df_pos = df[(df[['Regular Hours', 'Regular Gross Paid','OT Hours','Total Other Pay']] > 0)]"
   ]
  },
  {
   "cell_type": "code",
   "execution_count": null,
   "id": "7f4c4b5c",
   "metadata": {},
   "outputs": [],
   "source": [
    "df_neg.shape"
   ]
  },
  {
   "cell_type": "code",
   "execution_count": null,
   "id": "618aa1c0",
   "metadata": {},
   "outputs": [],
   "source": [
    "df_pos.shape"
   ]
  },
  {
   "cell_type": "code",
   "execution_count": null,
   "id": "644d3186",
   "metadata": {},
   "outputs": [],
   "source": [
    "df_neg_reghours = df[df['Regular Hours']<0]"
   ]
  },
  {
   "cell_type": "code",
   "execution_count": null,
   "id": "d554c982",
   "metadata": {},
   "outputs": [],
   "source": [
    "df_neg_reghours.shape"
   ]
  },
  {
   "cell_type": "code",
   "execution_count": null,
   "id": "49b2fd3a",
   "metadata": {},
   "outputs": [],
   "source": [
    "df_neg_reghours.head()"
   ]
  },
  {
   "cell_type": "code",
   "execution_count": null,
   "id": "3e2b1b5f",
   "metadata": {},
   "outputs": [],
   "source": [
    "df_neg_reghours['Work Location Borough'].value_counts(dropna=False)"
   ]
  },
  {
   "cell_type": "code",
   "execution_count": null,
   "id": "8ff7a1e4",
   "metadata": {},
   "outputs": [],
   "source": [
    "df_neg_reghours['Title Description'].value_counts(dropna=False)"
   ]
  },
  {
   "cell_type": "code",
   "execution_count": null,
   "id": "b0700790",
   "metadata": {},
   "outputs": [],
   "source": [
    "df_neg_reghours['OT Hours'].value_counts(dropna=False)"
   ]
  },
  {
   "cell_type": "code",
   "execution_count": null,
   "id": "fa01c8c4",
   "metadata": {},
   "outputs": [],
   "source": [
    "#output shows 2706 rows with negative regular hours -- this is less than 1% data, consider to remove"
   ]
  },
  {
   "cell_type": "code",
   "execution_count": null,
   "id": "fba61b16",
   "metadata": {},
   "outputs": [],
   "source": [
    "df_neg_reggrosspaid = df[df['Regular Gross Paid']<0]"
   ]
  },
  {
   "cell_type": "code",
   "execution_count": null,
   "id": "1225dc85",
   "metadata": {},
   "outputs": [],
   "source": [
    "df_neg_reggrosspaid.shape"
   ]
  },
  {
   "cell_type": "code",
   "execution_count": null,
   "id": "6df8abe6",
   "metadata": {},
   "outputs": [],
   "source": [
    "df_neg_reggrosspaid.head()"
   ]
  },
  {
   "cell_type": "code",
   "execution_count": null,
   "id": "e1e715bc",
   "metadata": {},
   "outputs": [],
   "source": [
    "df_neg_othours = df[df['OT Hours']<0]"
   ]
  },
  {
   "cell_type": "code",
   "execution_count": null,
   "id": "6917fc39",
   "metadata": {},
   "outputs": [],
   "source": [
    "df_neg_othours.shape"
   ]
  },
  {
   "cell_type": "code",
   "execution_count": null,
   "id": "3a76dd20",
   "metadata": {},
   "outputs": [],
   "source": [
    "df_neg_otpaid = df[df['Total OT Paid']<0]"
   ]
  },
  {
   "cell_type": "code",
   "execution_count": null,
   "id": "86991ea5",
   "metadata": {},
   "outputs": [],
   "source": [
    "df_neg_otpaid.shape"
   ]
  },
  {
   "cell_type": "code",
   "execution_count": null,
   "id": "3d4aed70",
   "metadata": {},
   "outputs": [],
   "source": [
    "df_neg_totalotherpay = df[df['Total Other Pay']<0]"
   ]
  },
  {
   "cell_type": "code",
   "execution_count": null,
   "id": "9f9eea17",
   "metadata": {},
   "outputs": [],
   "source": [
    "df_neg_totalotherpay.shape"
   ]
  },
  {
   "cell_type": "code",
   "execution_count": null,
   "id": "181d3035",
   "metadata": {},
   "outputs": [],
   "source": [
    "#determine %total data with negative values\n",
    "(2706+9129+471+2215+54731)/5109775\n",
    "5109775-2706-9129"
   ]
  },
  {
   "cell_type": "markdown",
   "id": "0a31111e",
   "metadata": {},
   "source": [
    "#total rows with negative values is 1.35% of data.\n",
    "The data dictionary provided by the NYC Open Data website does not have a clear explanation for why there are negative values in these columns.\n",
    "Therefore I will create subsets of the original dataset to remove the rows with negative values."
   ]
  },
  {
   "cell_type": "code",
   "execution_count": null,
   "id": "eec885cc",
   "metadata": {},
   "outputs": [],
   "source": [
    "#remove negative Regular Hours values\n",
    "df_pos_reghours = df[df['Regular Hours'] >=0]"
   ]
  },
  {
   "cell_type": "code",
   "execution_count": null,
   "id": "cb93d401",
   "metadata": {},
   "outputs": [],
   "source": [
    "df_pos_reghours.shape"
   ]
  },
  {
   "cell_type": "code",
   "execution_count": null,
   "id": "633d9732",
   "metadata": {},
   "outputs": [],
   "source": [
    "#check rows with neg Reg Gross Paid in new df\n",
    "df_test = df_pos_reghours[df_pos_reghours['Regular Gross Paid'] < 0]"
   ]
  },
  {
   "cell_type": "code",
   "execution_count": null,
   "id": "a81d7da9",
   "metadata": {},
   "outputs": [],
   "source": [
    "df_test.shape"
   ]
  },
  {
   "cell_type": "code",
   "execution_count": null,
   "id": "bee464e7",
   "metadata": {},
   "outputs": [],
   "source": [
    "#number rows next subset should have\n",
    "5107069-7206"
   ]
  },
  {
   "cell_type": "code",
   "execution_count": null,
   "id": "0528de30",
   "metadata": {},
   "outputs": [],
   "source": [
    "#continue subsetting remove Reg Gross Paid\n",
    "df_pos_reggrosspaid = df_pos_reghours[df_pos_reghours['Regular Gross Paid'] >= 0]"
   ]
  },
  {
   "cell_type": "code",
   "execution_count": null,
   "id": "0ba7169e",
   "metadata": {},
   "outputs": [],
   "source": [
    "df_pos_reggrosspaid.shape"
   ]
  },
  {
   "cell_type": "code",
   "execution_count": null,
   "id": "d65fa7e8",
   "metadata": {},
   "outputs": [],
   "source": [
    "#check rows with neg OT Hours in new dataframe\n",
    "df_test= df_pos_reggrosspaid[df_pos_reggrosspaid['OT Hours']<0]\n"
   ]
  },
  {
   "cell_type": "code",
   "execution_count": null,
   "id": "d4ce750b",
   "metadata": {},
   "outputs": [],
   "source": [
    "df_test.shape"
   ]
  },
  {
   "cell_type": "code",
   "execution_count": null,
   "id": "0798237b",
   "metadata": {},
   "outputs": [],
   "source": [
    "#number of rows for next subset\n",
    "5099863-337"
   ]
  },
  {
   "cell_type": "code",
   "execution_count": null,
   "id": "3e1dc776",
   "metadata": {},
   "outputs": [],
   "source": [
    "df_pos_othours = df_pos_reggrosspaid[df_pos_reggrosspaid['OT Hours'] >=0]"
   ]
  },
  {
   "cell_type": "code",
   "execution_count": null,
   "id": "8868b585",
   "metadata": {},
   "outputs": [],
   "source": [
    "df_pos_othours.shape"
   ]
  },
  {
   "cell_type": "code",
   "execution_count": null,
   "id": "32d99737",
   "metadata": {},
   "outputs": [],
   "source": [
    "#check number rows with negative Total OT Paid\n",
    "df_test = df_pos_othours[df_pos_othours['Total OT Paid']<0]"
   ]
  },
  {
   "cell_type": "code",
   "execution_count": null,
   "id": "4c91ea48",
   "metadata": {},
   "outputs": [],
   "source": [
    "df_test.shape"
   ]
  },
  {
   "cell_type": "code",
   "execution_count": null,
   "id": "429f86ad",
   "metadata": {},
   "outputs": [],
   "source": [
    "#number of rows in next subset\n",
    "5099526 - 1398"
   ]
  },
  {
   "cell_type": "code",
   "execution_count": null,
   "id": "1b28aa9c",
   "metadata": {},
   "outputs": [],
   "source": [
    "df_pos_totalotpaid = df_pos_othours[df_pos_othours['Total OT Paid'] >=0]"
   ]
  },
  {
   "cell_type": "code",
   "execution_count": null,
   "id": "f4cc3985",
   "metadata": {},
   "outputs": [],
   "source": [
    "df_pos_totalotpaid.shape"
   ]
  },
  {
   "cell_type": "code",
   "execution_count": null,
   "id": "d5331e25",
   "metadata": {},
   "outputs": [],
   "source": [
    "#check number of rows with negative Total Other Pay\n",
    "df_test = df_pos_totalotpaid[df_pos_totalotpaid['Total Other Pay']<0]"
   ]
  },
  {
   "cell_type": "code",
   "execution_count": null,
   "id": "856bbf8e",
   "metadata": {},
   "outputs": [],
   "source": [
    "df_test.shape"
   ]
  },
  {
   "cell_type": "code",
   "execution_count": null,
   "id": "19e4b205",
   "metadata": {},
   "outputs": [],
   "source": [
    "#number of rows in next subset\n",
    "5098128-53284"
   ]
  },
  {
   "cell_type": "code",
   "execution_count": null,
   "id": "801152ee",
   "metadata": {},
   "outputs": [],
   "source": [
    "df_pos_totalotherpay=df_pos_totalotpaid[df_pos_totalotpaid['Total Other Pay'] >=0]"
   ]
  },
  {
   "cell_type": "code",
   "execution_count": null,
   "id": "4f4c8629",
   "metadata": {},
   "outputs": [],
   "source": [
    "df_pos_totalotherpay.shape"
   ]
  },
  {
   "cell_type": "code",
   "execution_count": null,
   "id": "ddeaf468",
   "metadata": {},
   "outputs": [],
   "source": [
    "#define path to prepared data folder\n",
    "preparedDataPath= r'C:\\Users\\user\\nycpayrollanalysis\\02 Data\\prepareddata'"
   ]
  },
  {
   "cell_type": "code",
   "execution_count": null,
   "id": "c74e1f40",
   "metadata": {},
   "outputs": [],
   "source": [
    "#export to view in excel\n",
    "df_pos_totalotherpay.to_csv(os.path.join(preparedDataPath, 'payroll_no_negs.csv'))\n"
   ]
  },
  {
   "cell_type": "markdown",
   "id": "c397da34",
   "metadata": {},
   "source": [
    "#close and halt at this checkpoint\n",
    "dataset saved as csv after removing all rows with negative payroll numbers"
   ]
  },
  {
   "cell_type": "code",
   "execution_count": null,
   "id": "76215209",
   "metadata": {},
   "outputs": [],
   "source": [
    "#Import data set with no negative payment data\n",
    "\n",
    "df=pd.read_csv(os.path.join(preparedDataPath,'payroll_no_negs.csv'),index_col=False,dtype=str)"
   ]
  },
  {
   "cell_type": "code",
   "execution_count": null,
   "id": "eb0e07f1",
   "metadata": {},
   "outputs": [],
   "source": [
    "df.head()"
   ]
  },
  {
   "cell_type": "code",
   "execution_count": null,
   "id": "e4104d2a",
   "metadata": {},
   "outputs": [],
   "source": [
    "df.info()"
   ]
  },
  {
   "cell_type": "code",
   "execution_count": null,
   "id": "4b87f893",
   "metadata": {},
   "outputs": [],
   "source": [
    "df.describe()"
   ]
  },
  {
   "cell_type": "code",
   "execution_count": null,
   "id": "6e4c9769",
   "metadata": {},
   "outputs": [],
   "source": [
    "#convert payroll variables to float64\n",
    "df['Base Salary'] = df['Base Salary'].astype('float64')\n",
    "df['Regular Hours'] = df['Regular Hours'].astype('float64')\n",
    "df['Regular Gross Paid'] = df['Regular Gross Paid'].astype('float64')\n",
    "df['OT Hours'] = df['OT Hours'].astype('float64')\n",
    "df['Total OT Paid'] = df['Total OT Paid'].astype('float64')\n",
    "df['Total Other Pay'] = df['Total Other Pay'].astype('float64')"
   ]
  },
  {
   "cell_type": "code",
   "execution_count": null,
   "id": "920636ca",
   "metadata": {},
   "outputs": [],
   "source": [
    "df.describe()"
   ]
  },
  {
   "cell_type": "markdown",
   "id": "514d89ad",
   "metadata": {},
   "source": [
    "#output shows no negative numbers\n",
    "#next step identify duplicates"
   ]
  },
  {
   "cell_type": "code",
   "execution_count": 8,
   "id": "ef6b5165",
   "metadata": {},
   "outputs": [
    {
     "data": {
      "text/plain": [
       "0          False\n",
       "1          False\n",
       "2          False\n",
       "3          False\n",
       "4          False\n",
       "           ...  \n",
       "5109770    False\n",
       "5109771    False\n",
       "5109772    False\n",
       "5109773    False\n",
       "5109774    False\n",
       "Length: 5109775, dtype: bool"
      ]
     },
     "execution_count": 8,
     "metadata": {},
     "output_type": "execute_result"
    }
   ],
   "source": [
    "df.duplicated()"
   ]
  },
  {
   "cell_type": "code",
   "execution_count": 9,
   "id": "34bced56",
   "metadata": {},
   "outputs": [],
   "source": [
    "df['dup_row']=df.duplicated()"
   ]
  },
  {
   "cell_type": "code",
   "execution_count": 10,
   "id": "12fd3ae1",
   "metadata": {},
   "outputs": [
    {
     "data": {
      "text/plain": [
       "False    5109527\n",
       "True         248\n",
       "Name: dup_row, dtype: int64"
      ]
     },
     "execution_count": 10,
     "metadata": {},
     "output_type": "execute_result"
    }
   ],
   "source": [
    "df['dup_row'].value_counts(dropna=False)"
   ]
  },
  {
   "cell_type": "markdown",
   "id": "5620ce93",
   "metadata": {},
   "source": [
    "#output shows there are no duplicate rows"
   ]
  },
  {
   "cell_type": "markdown",
   "id": "2a631667",
   "metadata": {},
   "source": [
    "#find null values for all strings\n"
   ]
  },
  {
   "cell_type": "code",
   "execution_count": null,
   "id": "9fa8e348",
   "metadata": {},
   "outputs": [],
   "source": [
    "df['Payroll Number'].value_counts(dropna=False)"
   ]
  },
  {
   "cell_type": "markdown",
   "id": "91f1513c",
   "metadata": {},
   "source": [
    "#Payroll Number contains 1.7million null values which is approx 25% of data. This is too large to remove from total dataset.  Depending on business question in future analysis, it is possible to use subset of data only containing these values."
   ]
  },
  {
   "cell_type": "code",
   "execution_count": null,
   "id": "c5ae8bbd",
   "metadata": {},
   "outputs": [],
   "source": [
    "df['Agency Name'].value_counts(dropna=False)"
   ]
  },
  {
   "cell_type": "code",
   "execution_count": null,
   "id": "abb495fc",
   "metadata": {},
   "outputs": [],
   "source": [
    "df['Agency Name'].isnull().sum()\n",
    "#df.isnull().sum()"
   ]
  },
  {
   "cell_type": "markdown",
   "id": "6397fdae",
   "metadata": {},
   "source": [
    "#output shows there are no null values in Agency Name (great!)"
   ]
  },
  {
   "cell_type": "code",
   "execution_count": null,
   "id": "29e4a0c9",
   "metadata": {},
   "outputs": [],
   "source": [
    "df['Last Name'].value_counts(dropna=False)"
   ]
  },
  {
   "cell_type": "code",
   "execution_count": null,
   "id": "e3f172d4",
   "metadata": {},
   "outputs": [],
   "source": [
    "df['Last Name'].isnull().sum()"
   ]
  },
  {
   "cell_type": "code",
   "execution_count": null,
   "id": "d3f18f17",
   "metadata": {},
   "outputs": [],
   "source": [
    "df['First Name'].value_counts(dropna=False)"
   ]
  },
  {
   "cell_type": "code",
   "execution_count": null,
   "id": "e6fe5608",
   "metadata": {},
   "outputs": [],
   "source": [
    "df['First Name'].isnull().sum()"
   ]
  },
  {
   "cell_type": "code",
   "execution_count": null,
   "id": "455cf81c",
   "metadata": {},
   "outputs": [],
   "source": [
    "df['Mid Init'].isnull().sum()"
   ]
  },
  {
   "cell_type": "code",
   "execution_count": null,
   "id": "b354e866",
   "metadata": {},
   "outputs": [],
   "source": [
    "df_nullfullname=df[(df['First Name'].isnull()) & df['Last Name'].isnull()]"
   ]
  },
  {
   "cell_type": "code",
   "execution_count": null,
   "id": "3e50eafd",
   "metadata": {},
   "outputs": [],
   "source": [
    "df_nullfullname.shape"
   ]
  },
  {
   "cell_type": "markdown",
   "id": "bede6f38",
   "metadata": {},
   "source": [
    "#Output shows the following\n",
    "- 12750 rows contain no name information for employees, this data can be removed from dataset\n",
    "- Mid Init is missing from approx 50% of the data.  \n",
    "- Employee name should be replaced with unique identifier based on combination of First Name, Last Name, Mid Init\n",
    "- Overall, there may be privacy concerns including employee's names in analysis.  Considering this information is made public since they are government employees, it is possible they had to agree to allow their name to be included in this data set.  However, as the analyst, I can choose to protect their privacy within my own analysis.\n",
    "\n",
    "#Wrangling step - to group data by First Name, Last Name, Mid Init and create new unique identifier."
   ]
  },
  {
   "cell_type": "code",
   "execution_count": null,
   "id": "ec73b736",
   "metadata": {},
   "outputs": [],
   "source": [
    "#subset data to remove rows with null names\n",
    "#step 1, create flag for nulls\n",
    "#ords_prods_merge.loc[(ords_prods_merge['max_order'] <= 40) & (ords_prods_merge['max_order'] > 10), 'loyalty_flag'] = 'Regular customer'\n",
    "#df['null_name']=df[{(df['First Name'].isnull()) & df['Last Name'].isnull()},true]\n",
    "df.loc[(df['First Name'].isnull()) & (df['Last Name'].isnull()), 'null_name'] = 'true'"
   ]
  },
  {
   "cell_type": "code",
   "execution_count": null,
   "id": "bc6e21ce",
   "metadata": {},
   "outputs": [],
   "source": [
    "df['null_name'].value_counts(dropna=False)"
   ]
  },
  {
   "cell_type": "code",
   "execution_count": null,
   "id": "f6ba31c9",
   "metadata": {},
   "outputs": [],
   "source": [
    "df_nonullname=df[df['null_name'] !='true']"
   ]
  },
  {
   "cell_type": "code",
   "execution_count": null,
   "id": "4fb14fb6",
   "metadata": {},
   "outputs": [],
   "source": [
    "df_nonullname.shape"
   ]
  },
  {
   "cell_type": "code",
   "execution_count": null,
   "id": "951f5c9e",
   "metadata": {},
   "outputs": [],
   "source": [
    "5044844-12750"
   ]
  },
  {
   "cell_type": "code",
   "execution_count": null,
   "id": "1313c1f5",
   "metadata": {},
   "outputs": [],
   "source": [
    "df_nonullname.head()"
   ]
  },
  {
   "cell_type": "code",
   "execution_count": null,
   "id": "f2d6c984",
   "metadata": {},
   "outputs": [],
   "source": [
    "#unnecessary columns\n",
    "df_nonullname.drop(columns=['dup_row', 'null_name'])"
   ]
  },
  {
   "cell_type": "code",
   "execution_count": null,
   "id": "24c7d35b",
   "metadata": {},
   "outputs": [],
   "source": [
    "df_nonullname.head()"
   ]
  },
  {
   "cell_type": "code",
   "execution_count": null,
   "id": "16012ac5",
   "metadata": {},
   "outputs": [],
   "source": [
    "df_nonullname.shape"
   ]
  },
  {
   "cell_type": "code",
   "execution_count": null,
   "id": "07b76cb8",
   "metadata": {},
   "outputs": [],
   "source": [
    "df_nonullname.drop(columns=['dup_row', 'null_name'])"
   ]
  },
  {
   "cell_type": "code",
   "execution_count": null,
   "id": "c6e6169d",
   "metadata": {},
   "outputs": [],
   "source": [
    "#export to csv as checkpoint\n",
    "df_nonullname.to_csv(os.path.join(preparedDataPath, 'payroll_no_negsnullname.csv'))"
   ]
  },
  {
   "cell_type": "code",
   "execution_count": null,
   "id": "4f5f9539",
   "metadata": {},
   "outputs": [],
   "source": [
    "#close and halt, reopen with latest data set"
   ]
  },
  {
   "cell_type": "code",
   "execution_count": 9,
   "id": "a0f7f05f",
   "metadata": {},
   "outputs": [],
   "source": [
    "#create dataframe with dataset from nyc.gov\n",
    "df=pd.read_csv(os.path.join(preparedDataPath, 'payroll_no_negsnullname.csv'),dtype=str)"
   ]
  },
  {
   "cell_type": "code",
   "execution_count": 10,
   "id": "6d96bdc6",
   "metadata": {},
   "outputs": [
    {
     "data": {
      "text/html": [
       "<div>\n",
       "<style scoped>\n",
       "    .dataframe tbody tr th:only-of-type {\n",
       "        vertical-align: middle;\n",
       "    }\n",
       "\n",
       "    .dataframe tbody tr th {\n",
       "        vertical-align: top;\n",
       "    }\n",
       "\n",
       "    .dataframe thead th {\n",
       "        text-align: right;\n",
       "    }\n",
       "</style>\n",
       "<table border=\"1\" class=\"dataframe\">\n",
       "  <thead>\n",
       "    <tr style=\"text-align: right;\">\n",
       "      <th></th>\n",
       "      <th>Unnamed: 0</th>\n",
       "      <th>Fiscal Year</th>\n",
       "      <th>Payroll Number</th>\n",
       "      <th>Agency Name</th>\n",
       "      <th>Last Name</th>\n",
       "      <th>First Name</th>\n",
       "      <th>Mid Init</th>\n",
       "      <th>Agency Start Date</th>\n",
       "      <th>Work Location Borough</th>\n",
       "      <th>Title Description</th>\n",
       "      <th>Leave Status as of June 30</th>\n",
       "      <th>Base Salary</th>\n",
       "      <th>Pay Basis</th>\n",
       "      <th>Regular Hours</th>\n",
       "      <th>Regular Gross Paid</th>\n",
       "      <th>OT Hours</th>\n",
       "      <th>Total OT Paid</th>\n",
       "      <th>Total Other Pay</th>\n",
       "      <th>dup_row</th>\n",
       "      <th>null_name</th>\n",
       "    </tr>\n",
       "  </thead>\n",
       "  <tbody>\n",
       "    <tr>\n",
       "      <th>0</th>\n",
       "      <td>0</td>\n",
       "      <td>2020</td>\n",
       "      <td>17</td>\n",
       "      <td>OFFICE OF EMERGENCY MANAGEMENT</td>\n",
       "      <td>BEREZIN</td>\n",
       "      <td>MIKHAIL</td>\n",
       "      <td>NaN</td>\n",
       "      <td>08/10/2015</td>\n",
       "      <td>BROOKLYN</td>\n",
       "      <td>EMERGENCY PREPAREDNESS MANAGER</td>\n",
       "      <td>ACTIVE</td>\n",
       "      <td>86005.0</td>\n",
       "      <td>per Annum</td>\n",
       "      <td>1820.0</td>\n",
       "      <td>84698.21</td>\n",
       "      <td>0.0</td>\n",
       "      <td>0.0</td>\n",
       "      <td>0.0</td>\n",
       "      <td>False</td>\n",
       "      <td>NaN</td>\n",
       "    </tr>\n",
       "    <tr>\n",
       "      <th>1</th>\n",
       "      <td>1</td>\n",
       "      <td>2020</td>\n",
       "      <td>17</td>\n",
       "      <td>OFFICE OF EMERGENCY MANAGEMENT</td>\n",
       "      <td>GEAGER</td>\n",
       "      <td>VERONICA</td>\n",
       "      <td>M</td>\n",
       "      <td>09/12/2016</td>\n",
       "      <td>BROOKLYN</td>\n",
       "      <td>EMERGENCY PREPAREDNESS MANAGER</td>\n",
       "      <td>ACTIVE</td>\n",
       "      <td>86005.0</td>\n",
       "      <td>per Annum</td>\n",
       "      <td>1820.0</td>\n",
       "      <td>84698.21</td>\n",
       "      <td>0.0</td>\n",
       "      <td>0.0</td>\n",
       "      <td>0.0</td>\n",
       "      <td>False</td>\n",
       "      <td>NaN</td>\n",
       "    </tr>\n",
       "    <tr>\n",
       "      <th>2</th>\n",
       "      <td>2</td>\n",
       "      <td>2020</td>\n",
       "      <td>17</td>\n",
       "      <td>OFFICE OF EMERGENCY MANAGEMENT</td>\n",
       "      <td>RAMANI</td>\n",
       "      <td>SHRADDHA</td>\n",
       "      <td>NaN</td>\n",
       "      <td>02/22/2016</td>\n",
       "      <td>BROOKLYN</td>\n",
       "      <td>EMERGENCY PREPAREDNESS MANAGER</td>\n",
       "      <td>ACTIVE</td>\n",
       "      <td>86005.0</td>\n",
       "      <td>per Annum</td>\n",
       "      <td>1820.0</td>\n",
       "      <td>84698.21</td>\n",
       "      <td>0.0</td>\n",
       "      <td>0.0</td>\n",
       "      <td>0.0</td>\n",
       "      <td>False</td>\n",
       "      <td>NaN</td>\n",
       "    </tr>\n",
       "    <tr>\n",
       "      <th>3</th>\n",
       "      <td>3</td>\n",
       "      <td>2020</td>\n",
       "      <td>17</td>\n",
       "      <td>OFFICE OF EMERGENCY MANAGEMENT</td>\n",
       "      <td>ROTTA</td>\n",
       "      <td>JONATHAN</td>\n",
       "      <td>D</td>\n",
       "      <td>09/16/2013</td>\n",
       "      <td>BROOKLYN</td>\n",
       "      <td>EMERGENCY PREPAREDNESS MANAGER</td>\n",
       "      <td>ACTIVE</td>\n",
       "      <td>86005.0</td>\n",
       "      <td>per Annum</td>\n",
       "      <td>1820.0</td>\n",
       "      <td>84698.21</td>\n",
       "      <td>0.0</td>\n",
       "      <td>0.0</td>\n",
       "      <td>0.0</td>\n",
       "      <td>False</td>\n",
       "      <td>NaN</td>\n",
       "    </tr>\n",
       "    <tr>\n",
       "      <th>4</th>\n",
       "      <td>4</td>\n",
       "      <td>2020</td>\n",
       "      <td>17</td>\n",
       "      <td>OFFICE OF EMERGENCY MANAGEMENT</td>\n",
       "      <td>WILSON II</td>\n",
       "      <td>ROBERT</td>\n",
       "      <td>P</td>\n",
       "      <td>04/30/2018</td>\n",
       "      <td>BROOKLYN</td>\n",
       "      <td>EMERGENCY PREPAREDNESS MANAGER</td>\n",
       "      <td>ACTIVE</td>\n",
       "      <td>86005.0</td>\n",
       "      <td>per Annum</td>\n",
       "      <td>1820.0</td>\n",
       "      <td>84698.21</td>\n",
       "      <td>0.0</td>\n",
       "      <td>0.0</td>\n",
       "      <td>0.0</td>\n",
       "      <td>False</td>\n",
       "      <td>NaN</td>\n",
       "    </tr>\n",
       "  </tbody>\n",
       "</table>\n",
       "</div>"
      ],
      "text/plain": [
       "  Unnamed: 0 Fiscal Year Payroll Number                     Agency Name  \\\n",
       "0          0        2020             17  OFFICE OF EMERGENCY MANAGEMENT   \n",
       "1          1        2020             17  OFFICE OF EMERGENCY MANAGEMENT   \n",
       "2          2        2020             17  OFFICE OF EMERGENCY MANAGEMENT   \n",
       "3          3        2020             17  OFFICE OF EMERGENCY MANAGEMENT   \n",
       "4          4        2020             17  OFFICE OF EMERGENCY MANAGEMENT   \n",
       "\n",
       "   Last Name First Name Mid Init Agency Start Date Work Location Borough  \\\n",
       "0    BEREZIN    MIKHAIL      NaN        08/10/2015              BROOKLYN   \n",
       "1     GEAGER   VERONICA        M        09/12/2016              BROOKLYN   \n",
       "2     RAMANI   SHRADDHA      NaN        02/22/2016              BROOKLYN   \n",
       "3      ROTTA   JONATHAN        D        09/16/2013              BROOKLYN   \n",
       "4  WILSON II     ROBERT        P        04/30/2018              BROOKLYN   \n",
       "\n",
       "                Title Description Leave Status as of June 30 Base Salary  \\\n",
       "0  EMERGENCY PREPAREDNESS MANAGER                     ACTIVE     86005.0   \n",
       "1  EMERGENCY PREPAREDNESS MANAGER                     ACTIVE     86005.0   \n",
       "2  EMERGENCY PREPAREDNESS MANAGER                     ACTIVE     86005.0   \n",
       "3  EMERGENCY PREPAREDNESS MANAGER                     ACTIVE     86005.0   \n",
       "4  EMERGENCY PREPAREDNESS MANAGER                     ACTIVE     86005.0   \n",
       "\n",
       "   Pay Basis Regular Hours Regular Gross Paid OT Hours Total OT Paid  \\\n",
       "0  per Annum        1820.0           84698.21      0.0           0.0   \n",
       "1  per Annum        1820.0           84698.21      0.0           0.0   \n",
       "2  per Annum        1820.0           84698.21      0.0           0.0   \n",
       "3  per Annum        1820.0           84698.21      0.0           0.0   \n",
       "4  per Annum        1820.0           84698.21      0.0           0.0   \n",
       "\n",
       "  Total Other Pay dup_row null_name  \n",
       "0             0.0   False       NaN  \n",
       "1             0.0   False       NaN  \n",
       "2             0.0   False       NaN  \n",
       "3             0.0   False       NaN  \n",
       "4             0.0   False       NaN  "
      ]
     },
     "execution_count": 10,
     "metadata": {},
     "output_type": "execute_result"
    }
   ],
   "source": [
    "df.head()"
   ]
  },
  {
   "cell_type": "code",
   "execution_count": 11,
   "id": "90a68937",
   "metadata": {},
   "outputs": [],
   "source": [
    "#convert payroll variables to float64\n",
    "df['Base Salary'] = df['Base Salary'].astype('float64')\n",
    "df['Regular Hours'] = df['Regular Hours'].astype('float64')\n",
    "df['Regular Gross Paid'] = df['Regular Gross Paid'].astype('float64')\n",
    "df['OT Hours'] = df['OT Hours'].astype('float64')\n",
    "df['Total OT Paid'] = df['Total OT Paid'].astype('float64')\n",
    "df['Total Other Pay'] = df['Total Other Pay'].astype('float64')"
   ]
  },
  {
   "cell_type": "markdown",
   "id": "7cc308d6",
   "metadata": {},
   "source": [
    "#continue checking for null values"
   ]
  },
  {
   "cell_type": "code",
   "execution_count": 13,
   "id": "3e0c5a5f",
   "metadata": {},
   "outputs": [
    {
     "data": {
      "text/plain": [
       "01/01/2010    99963\n",
       "08/30/2007    56023\n",
       "09/03/2013    55202\n",
       "09/02/2014    49708\n",
       "08/31/2006    49534\n",
       "              ...  \n",
       "01/21/2012        1\n",
       "03/19/2005        1\n",
       "03/24/2012        1\n",
       "12/08/2007        1\n",
       "01/15/2022        1\n",
       "Name: Agency Start Date, Length: 15609, dtype: int64"
      ]
     },
     "execution_count": 13,
     "metadata": {},
     "output_type": "execute_result"
    }
   ],
   "source": [
    "df['Agency Start Date'].value_counts(dropna=False)"
   ]
  },
  {
   "cell_type": "code",
   "execution_count": 14,
   "id": "7cd794af",
   "metadata": {},
   "outputs": [
    {
     "data": {
      "text/plain": [
       "0"
      ]
     },
     "execution_count": 14,
     "metadata": {},
     "output_type": "execute_result"
    }
   ],
   "source": [
    "df['Agency Start Date'].isnull().sum()"
   ]
  },
  {
   "cell_type": "markdown",
   "id": "ff7d9880",
   "metadata": {},
   "source": [
    "#output shows no null values in Agency Start Date (great!)"
   ]
  },
  {
   "cell_type": "code",
   "execution_count": 15,
   "id": "11a35936",
   "metadata": {
    "scrolled": true
   },
   "outputs": [
    {
     "data": {
      "text/plain": [
       "MANHATTAN        3214253\n",
       "NaN               503299\n",
       "QUEENS            490683\n",
       "BROOKLYN          415033\n",
       "BRONX             228706\n",
       "OTHER             106566\n",
       "RICHMOND           60227\n",
       "WESTCHESTER         4441\n",
       "ULSTER              2567\n",
       "Manhattan           1545\n",
       "SULLIVAN            1067\n",
       "Bronx                935\n",
       "DELAWARE             714\n",
       "Queens               599\n",
       "NASSAU               324\n",
       "PUTNAM               322\n",
       "SCHOHARIE            232\n",
       "DUTCHESS             194\n",
       "ALBANY               117\n",
       "Richmond             112\n",
       "GREENE                79\n",
       "WASHINGTON DC         56\n",
       "ORANGE                23\n",
       "Name: Work Location Borough, dtype: int64"
      ]
     },
     "execution_count": 15,
     "metadata": {},
     "output_type": "execute_result"
    }
   ],
   "source": [
    "df['Work Location Borough'].value_counts(dropna=False)"
   ]
  },
  {
   "cell_type": "markdown",
   "id": "5eec56db",
   "metadata": {},
   "source": [
    "#output shows the following items must be fixed\n",
    "- focus on the 5 boroughs of NYC:  Brooklyn, Manhattan, Queens, Bronx, Staten Island\n",
    "- Staten Island is Richmond County\n",
    "- convert all values to all-upper-case\n",
    "- remove locations not in 5 boroughs - Washington DC, Delaware, Richmond, Westchester, Ulster, Sullivan, Nassua, Putname, Schoharie, Dutchess, Albany, Greene, Orange\n",
    "- Consider options on how to handle NAN and Other\n",
    "- convert 'NAN' to 'unknown\"\n"
   ]
  },
  {
   "cell_type": "code",
   "execution_count": 41,
   "id": "1a65bb2f",
   "metadata": {},
   "outputs": [],
   "source": [
    "df['Work Location Borough'] = df['Work Location Borough'].astype('str')"
   ]
  },
  {
   "cell_type": "code",
   "execution_count": 42,
   "id": "c67cbafc",
   "metadata": {},
   "outputs": [
    {
     "data": {
      "text/plain": [
       "MANHATTAN        3215798\n",
       "nan               503299\n",
       "QUEENS            491282\n",
       "BROOKLYN          415033\n",
       "BRONX             229641\n",
       "OTHER             106566\n",
       "RICHMOND           60339\n",
       "WESTCHESTER         4441\n",
       "ULSTER              2567\n",
       "SULLIVAN            1067\n",
       "DELAWARE             714\n",
       "NASSAU               324\n",
       "PUTNAM               322\n",
       "SCHOHARIE            232\n",
       "DUTCHESS             194\n",
       "ALBANY               117\n",
       "GREENE                79\n",
       "WASHINGTON DC         56\n",
       "ORANGE                23\n",
       "Name: Work Location Borough, dtype: int64"
      ]
     },
     "execution_count": 42,
     "metadata": {},
     "output_type": "execute_result"
    }
   ],
   "source": [
    "df['Work Location Borough'].value_counts(dropna=False)"
   ]
  },
  {
   "cell_type": "code",
   "execution_count": 45,
   "id": "5a5d9406",
   "metadata": {},
   "outputs": [],
   "source": [
    "df['Work Location Borough']=df['Work Location Borough'].replace(to_replace=['Manhattan','Brooklyn','Queens','Bronx','Richmond','nan'], value=['MANHATTAN','BROOKLYN','QUEENS','BRONX','RICHMOND','UNKNOWN'])"
   ]
  },
  {
   "cell_type": "code",
   "execution_count": 25,
   "id": "22bf8588",
   "metadata": {},
   "outputs": [
    {
     "data": {
      "text/plain": [
       "MANHATTAN        3215798\n",
       "NaN               503299\n",
       "QUEENS            491282\n",
       "BROOKLYN          415033\n",
       "BRONX             229641\n",
       "OTHER             106566\n",
       "RICHMOND           60339\n",
       "WESTCHESTER         4441\n",
       "ULSTER              2567\n",
       "SULLIVAN            1067\n",
       "DELAWARE             714\n",
       "NASSAU               324\n",
       "PUTNAM               322\n",
       "SCHOHARIE            232\n",
       "DUTCHESS             194\n",
       "ALBANY               117\n",
       "GREENE                79\n",
       "WASHINGTON DC         56\n",
       "ORANGE                23\n",
       "Name: Work Location Borough, dtype: int64"
      ]
     },
     "execution_count": 25,
     "metadata": {},
     "output_type": "execute_result"
    }
   ],
   "source": [
    "df['Work Location Borough'].value_counts(dropna=False)"
   ]
  },
  {
   "cell_type": "code",
   "execution_count": 46,
   "id": "1746d115",
   "metadata": {},
   "outputs": [
    {
     "data": {
      "text/plain": [
       "MANHATTAN        3215798\n",
       "UNKNOWN           503299\n",
       "QUEENS            491282\n",
       "BROOKLYN          415033\n",
       "BRONX             229641\n",
       "OTHER             106566\n",
       "RICHMOND           60339\n",
       "WESTCHESTER         4441\n",
       "ULSTER              2567\n",
       "SULLIVAN            1067\n",
       "DELAWARE             714\n",
       "NASSAU               324\n",
       "PUTNAM               322\n",
       "SCHOHARIE            232\n",
       "DUTCHESS             194\n",
       "ALBANY               117\n",
       "GREENE                79\n",
       "WASHINGTON DC         56\n",
       "ORANGE                23\n",
       "Name: Work Location Borough, dtype: int64"
      ]
     },
     "execution_count": 46,
     "metadata": {},
     "output_type": "execute_result"
    }
   ],
   "source": [
    "df['Work Location Borough'].value_counts(dropna=False)"
   ]
  },
  {
   "cell_type": "code",
   "execution_count": 55,
   "id": "c30473ec",
   "metadata": {},
   "outputs": [],
   "source": [
    "fiveboro = [\"MANHATTAN\",\"BROOKLYN\",\"QUEENS\",\"BRONX\",\"RICHMOND\",\"UNKNOWN\"]\n",
    "df_fiveboroughs=df[df['Work Location Borough'].isin(fiveboro)]\n",
    "\n",
    "#df_nonullname=df[df['null_name'] !='true']"
   ]
  },
  {
   "cell_type": "code",
   "execution_count": 56,
   "id": "3646692e",
   "metadata": {},
   "outputs": [
    {
     "data": {
      "text/plain": [
       "(4915392, 20)"
      ]
     },
     "execution_count": 56,
     "metadata": {},
     "output_type": "execute_result"
    }
   ],
   "source": [
    "df_fiveboroughs.shape"
   ]
  },
  {
   "cell_type": "code",
   "execution_count": 57,
   "id": "ef8353fb",
   "metadata": {},
   "outputs": [
    {
     "data": {
      "text/html": [
       "<div>\n",
       "<style scoped>\n",
       "    .dataframe tbody tr th:only-of-type {\n",
       "        vertical-align: middle;\n",
       "    }\n",
       "\n",
       "    .dataframe tbody tr th {\n",
       "        vertical-align: top;\n",
       "    }\n",
       "\n",
       "    .dataframe thead th {\n",
       "        text-align: right;\n",
       "    }\n",
       "</style>\n",
       "<table border=\"1\" class=\"dataframe\">\n",
       "  <thead>\n",
       "    <tr style=\"text-align: right;\">\n",
       "      <th></th>\n",
       "      <th>Unnamed: 0</th>\n",
       "      <th>Fiscal Year</th>\n",
       "      <th>Payroll Number</th>\n",
       "      <th>Agency Name</th>\n",
       "      <th>Last Name</th>\n",
       "      <th>First Name</th>\n",
       "      <th>Mid Init</th>\n",
       "      <th>Agency Start Date</th>\n",
       "      <th>Work Location Borough</th>\n",
       "      <th>Title Description</th>\n",
       "      <th>Leave Status as of June 30</th>\n",
       "      <th>Base Salary</th>\n",
       "      <th>Pay Basis</th>\n",
       "      <th>Regular Hours</th>\n",
       "      <th>Regular Gross Paid</th>\n",
       "      <th>OT Hours</th>\n",
       "      <th>Total OT Paid</th>\n",
       "      <th>Total Other Pay</th>\n",
       "      <th>dup_row</th>\n",
       "      <th>null_name</th>\n",
       "    </tr>\n",
       "  </thead>\n",
       "  <tbody>\n",
       "    <tr>\n",
       "      <th>0</th>\n",
       "      <td>0</td>\n",
       "      <td>2020</td>\n",
       "      <td>17</td>\n",
       "      <td>OFFICE OF EMERGENCY MANAGEMENT</td>\n",
       "      <td>BEREZIN</td>\n",
       "      <td>MIKHAIL</td>\n",
       "      <td>NaN</td>\n",
       "      <td>08/10/2015</td>\n",
       "      <td>BROOKLYN</td>\n",
       "      <td>EMERGENCY PREPAREDNESS MANAGER</td>\n",
       "      <td>ACTIVE</td>\n",
       "      <td>86005.0</td>\n",
       "      <td>per Annum</td>\n",
       "      <td>1820.0</td>\n",
       "      <td>84698.21</td>\n",
       "      <td>0.0</td>\n",
       "      <td>0.0</td>\n",
       "      <td>0.0</td>\n",
       "      <td>False</td>\n",
       "      <td>NaN</td>\n",
       "    </tr>\n",
       "    <tr>\n",
       "      <th>1</th>\n",
       "      <td>1</td>\n",
       "      <td>2020</td>\n",
       "      <td>17</td>\n",
       "      <td>OFFICE OF EMERGENCY MANAGEMENT</td>\n",
       "      <td>GEAGER</td>\n",
       "      <td>VERONICA</td>\n",
       "      <td>M</td>\n",
       "      <td>09/12/2016</td>\n",
       "      <td>BROOKLYN</td>\n",
       "      <td>EMERGENCY PREPAREDNESS MANAGER</td>\n",
       "      <td>ACTIVE</td>\n",
       "      <td>86005.0</td>\n",
       "      <td>per Annum</td>\n",
       "      <td>1820.0</td>\n",
       "      <td>84698.21</td>\n",
       "      <td>0.0</td>\n",
       "      <td>0.0</td>\n",
       "      <td>0.0</td>\n",
       "      <td>False</td>\n",
       "      <td>NaN</td>\n",
       "    </tr>\n",
       "    <tr>\n",
       "      <th>2</th>\n",
       "      <td>2</td>\n",
       "      <td>2020</td>\n",
       "      <td>17</td>\n",
       "      <td>OFFICE OF EMERGENCY MANAGEMENT</td>\n",
       "      <td>RAMANI</td>\n",
       "      <td>SHRADDHA</td>\n",
       "      <td>NaN</td>\n",
       "      <td>02/22/2016</td>\n",
       "      <td>BROOKLYN</td>\n",
       "      <td>EMERGENCY PREPAREDNESS MANAGER</td>\n",
       "      <td>ACTIVE</td>\n",
       "      <td>86005.0</td>\n",
       "      <td>per Annum</td>\n",
       "      <td>1820.0</td>\n",
       "      <td>84698.21</td>\n",
       "      <td>0.0</td>\n",
       "      <td>0.0</td>\n",
       "      <td>0.0</td>\n",
       "      <td>False</td>\n",
       "      <td>NaN</td>\n",
       "    </tr>\n",
       "    <tr>\n",
       "      <th>3</th>\n",
       "      <td>3</td>\n",
       "      <td>2020</td>\n",
       "      <td>17</td>\n",
       "      <td>OFFICE OF EMERGENCY MANAGEMENT</td>\n",
       "      <td>ROTTA</td>\n",
       "      <td>JONATHAN</td>\n",
       "      <td>D</td>\n",
       "      <td>09/16/2013</td>\n",
       "      <td>BROOKLYN</td>\n",
       "      <td>EMERGENCY PREPAREDNESS MANAGER</td>\n",
       "      <td>ACTIVE</td>\n",
       "      <td>86005.0</td>\n",
       "      <td>per Annum</td>\n",
       "      <td>1820.0</td>\n",
       "      <td>84698.21</td>\n",
       "      <td>0.0</td>\n",
       "      <td>0.0</td>\n",
       "      <td>0.0</td>\n",
       "      <td>False</td>\n",
       "      <td>NaN</td>\n",
       "    </tr>\n",
       "    <tr>\n",
       "      <th>4</th>\n",
       "      <td>4</td>\n",
       "      <td>2020</td>\n",
       "      <td>17</td>\n",
       "      <td>OFFICE OF EMERGENCY MANAGEMENT</td>\n",
       "      <td>WILSON II</td>\n",
       "      <td>ROBERT</td>\n",
       "      <td>P</td>\n",
       "      <td>04/30/2018</td>\n",
       "      <td>BROOKLYN</td>\n",
       "      <td>EMERGENCY PREPAREDNESS MANAGER</td>\n",
       "      <td>ACTIVE</td>\n",
       "      <td>86005.0</td>\n",
       "      <td>per Annum</td>\n",
       "      <td>1820.0</td>\n",
       "      <td>84698.21</td>\n",
       "      <td>0.0</td>\n",
       "      <td>0.0</td>\n",
       "      <td>0.0</td>\n",
       "      <td>False</td>\n",
       "      <td>NaN</td>\n",
       "    </tr>\n",
       "  </tbody>\n",
       "</table>\n",
       "</div>"
      ],
      "text/plain": [
       "  Unnamed: 0 Fiscal Year Payroll Number                     Agency Name  \\\n",
       "0          0        2020             17  OFFICE OF EMERGENCY MANAGEMENT   \n",
       "1          1        2020             17  OFFICE OF EMERGENCY MANAGEMENT   \n",
       "2          2        2020             17  OFFICE OF EMERGENCY MANAGEMENT   \n",
       "3          3        2020             17  OFFICE OF EMERGENCY MANAGEMENT   \n",
       "4          4        2020             17  OFFICE OF EMERGENCY MANAGEMENT   \n",
       "\n",
       "   Last Name First Name Mid Init Agency Start Date Work Location Borough  \\\n",
       "0    BEREZIN    MIKHAIL      NaN        08/10/2015              BROOKLYN   \n",
       "1     GEAGER   VERONICA        M        09/12/2016              BROOKLYN   \n",
       "2     RAMANI   SHRADDHA      NaN        02/22/2016              BROOKLYN   \n",
       "3      ROTTA   JONATHAN        D        09/16/2013              BROOKLYN   \n",
       "4  WILSON II     ROBERT        P        04/30/2018              BROOKLYN   \n",
       "\n",
       "                Title Description Leave Status as of June 30  Base Salary  \\\n",
       "0  EMERGENCY PREPAREDNESS MANAGER                     ACTIVE      86005.0   \n",
       "1  EMERGENCY PREPAREDNESS MANAGER                     ACTIVE      86005.0   \n",
       "2  EMERGENCY PREPAREDNESS MANAGER                     ACTIVE      86005.0   \n",
       "3  EMERGENCY PREPAREDNESS MANAGER                     ACTIVE      86005.0   \n",
       "4  EMERGENCY PREPAREDNESS MANAGER                     ACTIVE      86005.0   \n",
       "\n",
       "   Pay Basis  Regular Hours  Regular Gross Paid  OT Hours  Total OT Paid  \\\n",
       "0  per Annum         1820.0            84698.21       0.0            0.0   \n",
       "1  per Annum         1820.0            84698.21       0.0            0.0   \n",
       "2  per Annum         1820.0            84698.21       0.0            0.0   \n",
       "3  per Annum         1820.0            84698.21       0.0            0.0   \n",
       "4  per Annum         1820.0            84698.21       0.0            0.0   \n",
       "\n",
       "   Total Other Pay dup_row null_name  \n",
       "0              0.0   False       NaN  \n",
       "1              0.0   False       NaN  \n",
       "2              0.0   False       NaN  \n",
       "3              0.0   False       NaN  \n",
       "4              0.0   False       NaN  "
      ]
     },
     "execution_count": 57,
     "metadata": {},
     "output_type": "execute_result"
    }
   ],
   "source": [
    "df_fiveboroughs.head()"
   ]
  },
  {
   "cell_type": "code",
   "execution_count": 59,
   "id": "49207152",
   "metadata": {},
   "outputs": [],
   "source": [
    "df_fiveboro_small=df_fiveboroughs.drop(columns=['dup_row','null_name'])"
   ]
  },
  {
   "cell_type": "code",
   "execution_count": 60,
   "id": "7e68c42b",
   "metadata": {},
   "outputs": [
    {
     "data": {
      "text/plain": [
       "(4915392, 18)"
      ]
     },
     "execution_count": 60,
     "metadata": {},
     "output_type": "execute_result"
    }
   ],
   "source": [
    "df_fiveboro_small.shape"
   ]
  },
  {
   "cell_type": "code",
   "execution_count": 61,
   "id": "ab8f22be",
   "metadata": {},
   "outputs": [],
   "source": [
    "#export to csv as checkpoint\n",
    "df_fiveboro_small.to_csv(os.path.join(preparedDataPath, 'payroll_fiveboro.csv'))"
   ]
  },
  {
   "cell_type": "markdown",
   "id": "bcebee7b",
   "metadata": {},
   "source": [
    "#checkpoint halt and close"
   ]
  },
  {
   "cell_type": "code",
   "execution_count": 3,
   "id": "3659e36f",
   "metadata": {},
   "outputs": [],
   "source": [
    "#create dataframe with dataset from fiveboro\n",
    "df=pd.read_csv(os.path.join(preparedDataPath, 'payroll_fiveboro.csv'),dtype=str)"
   ]
  },
  {
   "cell_type": "code",
   "execution_count": 4,
   "id": "d5eab7e8",
   "metadata": {},
   "outputs": [
    {
     "data": {
      "text/html": [
       "<div>\n",
       "<style scoped>\n",
       "    .dataframe tbody tr th:only-of-type {\n",
       "        vertical-align: middle;\n",
       "    }\n",
       "\n",
       "    .dataframe tbody tr th {\n",
       "        vertical-align: top;\n",
       "    }\n",
       "\n",
       "    .dataframe thead th {\n",
       "        text-align: right;\n",
       "    }\n",
       "</style>\n",
       "<table border=\"1\" class=\"dataframe\">\n",
       "  <thead>\n",
       "    <tr style=\"text-align: right;\">\n",
       "      <th></th>\n",
       "      <th>Unnamed: 0.1</th>\n",
       "      <th>Unnamed: 0</th>\n",
       "      <th>Fiscal Year</th>\n",
       "      <th>Payroll Number</th>\n",
       "      <th>Agency Name</th>\n",
       "      <th>Last Name</th>\n",
       "      <th>First Name</th>\n",
       "      <th>Mid Init</th>\n",
       "      <th>Agency Start Date</th>\n",
       "      <th>Work Location Borough</th>\n",
       "      <th>Title Description</th>\n",
       "      <th>Leave Status as of June 30</th>\n",
       "      <th>Base Salary</th>\n",
       "      <th>Pay Basis</th>\n",
       "      <th>Regular Hours</th>\n",
       "      <th>Regular Gross Paid</th>\n",
       "      <th>OT Hours</th>\n",
       "      <th>Total OT Paid</th>\n",
       "      <th>Total Other Pay</th>\n",
       "    </tr>\n",
       "  </thead>\n",
       "  <tbody>\n",
       "    <tr>\n",
       "      <th>0</th>\n",
       "      <td>0</td>\n",
       "      <td>0</td>\n",
       "      <td>2020</td>\n",
       "      <td>17</td>\n",
       "      <td>OFFICE OF EMERGENCY MANAGEMENT</td>\n",
       "      <td>BEREZIN</td>\n",
       "      <td>MIKHAIL</td>\n",
       "      <td>NaN</td>\n",
       "      <td>08/10/2015</td>\n",
       "      <td>BROOKLYN</td>\n",
       "      <td>EMERGENCY PREPAREDNESS MANAGER</td>\n",
       "      <td>ACTIVE</td>\n",
       "      <td>86005.0</td>\n",
       "      <td>per Annum</td>\n",
       "      <td>1820.0</td>\n",
       "      <td>84698.21</td>\n",
       "      <td>0.0</td>\n",
       "      <td>0.0</td>\n",
       "      <td>0.0</td>\n",
       "    </tr>\n",
       "    <tr>\n",
       "      <th>1</th>\n",
       "      <td>1</td>\n",
       "      <td>1</td>\n",
       "      <td>2020</td>\n",
       "      <td>17</td>\n",
       "      <td>OFFICE OF EMERGENCY MANAGEMENT</td>\n",
       "      <td>GEAGER</td>\n",
       "      <td>VERONICA</td>\n",
       "      <td>M</td>\n",
       "      <td>09/12/2016</td>\n",
       "      <td>BROOKLYN</td>\n",
       "      <td>EMERGENCY PREPAREDNESS MANAGER</td>\n",
       "      <td>ACTIVE</td>\n",
       "      <td>86005.0</td>\n",
       "      <td>per Annum</td>\n",
       "      <td>1820.0</td>\n",
       "      <td>84698.21</td>\n",
       "      <td>0.0</td>\n",
       "      <td>0.0</td>\n",
       "      <td>0.0</td>\n",
       "    </tr>\n",
       "    <tr>\n",
       "      <th>2</th>\n",
       "      <td>2</td>\n",
       "      <td>2</td>\n",
       "      <td>2020</td>\n",
       "      <td>17</td>\n",
       "      <td>OFFICE OF EMERGENCY MANAGEMENT</td>\n",
       "      <td>RAMANI</td>\n",
       "      <td>SHRADDHA</td>\n",
       "      <td>NaN</td>\n",
       "      <td>02/22/2016</td>\n",
       "      <td>BROOKLYN</td>\n",
       "      <td>EMERGENCY PREPAREDNESS MANAGER</td>\n",
       "      <td>ACTIVE</td>\n",
       "      <td>86005.0</td>\n",
       "      <td>per Annum</td>\n",
       "      <td>1820.0</td>\n",
       "      <td>84698.21</td>\n",
       "      <td>0.0</td>\n",
       "      <td>0.0</td>\n",
       "      <td>0.0</td>\n",
       "    </tr>\n",
       "    <tr>\n",
       "      <th>3</th>\n",
       "      <td>3</td>\n",
       "      <td>3</td>\n",
       "      <td>2020</td>\n",
       "      <td>17</td>\n",
       "      <td>OFFICE OF EMERGENCY MANAGEMENT</td>\n",
       "      <td>ROTTA</td>\n",
       "      <td>JONATHAN</td>\n",
       "      <td>D</td>\n",
       "      <td>09/16/2013</td>\n",
       "      <td>BROOKLYN</td>\n",
       "      <td>EMERGENCY PREPAREDNESS MANAGER</td>\n",
       "      <td>ACTIVE</td>\n",
       "      <td>86005.0</td>\n",
       "      <td>per Annum</td>\n",
       "      <td>1820.0</td>\n",
       "      <td>84698.21</td>\n",
       "      <td>0.0</td>\n",
       "      <td>0.0</td>\n",
       "      <td>0.0</td>\n",
       "    </tr>\n",
       "    <tr>\n",
       "      <th>4</th>\n",
       "      <td>4</td>\n",
       "      <td>4</td>\n",
       "      <td>2020</td>\n",
       "      <td>17</td>\n",
       "      <td>OFFICE OF EMERGENCY MANAGEMENT</td>\n",
       "      <td>WILSON II</td>\n",
       "      <td>ROBERT</td>\n",
       "      <td>P</td>\n",
       "      <td>04/30/2018</td>\n",
       "      <td>BROOKLYN</td>\n",
       "      <td>EMERGENCY PREPAREDNESS MANAGER</td>\n",
       "      <td>ACTIVE</td>\n",
       "      <td>86005.0</td>\n",
       "      <td>per Annum</td>\n",
       "      <td>1820.0</td>\n",
       "      <td>84698.21</td>\n",
       "      <td>0.0</td>\n",
       "      <td>0.0</td>\n",
       "      <td>0.0</td>\n",
       "    </tr>\n",
       "  </tbody>\n",
       "</table>\n",
       "</div>"
      ],
      "text/plain": [
       "  Unnamed: 0.1 Unnamed: 0 Fiscal Year Payroll Number  \\\n",
       "0            0          0        2020             17   \n",
       "1            1          1        2020             17   \n",
       "2            2          2        2020             17   \n",
       "3            3          3        2020             17   \n",
       "4            4          4        2020             17   \n",
       "\n",
       "                      Agency Name  Last Name First Name Mid Init  \\\n",
       "0  OFFICE OF EMERGENCY MANAGEMENT    BEREZIN    MIKHAIL      NaN   \n",
       "1  OFFICE OF EMERGENCY MANAGEMENT     GEAGER   VERONICA        M   \n",
       "2  OFFICE OF EMERGENCY MANAGEMENT     RAMANI   SHRADDHA      NaN   \n",
       "3  OFFICE OF EMERGENCY MANAGEMENT      ROTTA   JONATHAN        D   \n",
       "4  OFFICE OF EMERGENCY MANAGEMENT  WILSON II     ROBERT        P   \n",
       "\n",
       "  Agency Start Date Work Location Borough               Title Description  \\\n",
       "0        08/10/2015              BROOKLYN  EMERGENCY PREPAREDNESS MANAGER   \n",
       "1        09/12/2016              BROOKLYN  EMERGENCY PREPAREDNESS MANAGER   \n",
       "2        02/22/2016              BROOKLYN  EMERGENCY PREPAREDNESS MANAGER   \n",
       "3        09/16/2013              BROOKLYN  EMERGENCY PREPAREDNESS MANAGER   \n",
       "4        04/30/2018              BROOKLYN  EMERGENCY PREPAREDNESS MANAGER   \n",
       "\n",
       "  Leave Status as of June 30 Base Salary  Pay Basis Regular Hours  \\\n",
       "0                     ACTIVE     86005.0  per Annum        1820.0   \n",
       "1                     ACTIVE     86005.0  per Annum        1820.0   \n",
       "2                     ACTIVE     86005.0  per Annum        1820.0   \n",
       "3                     ACTIVE     86005.0  per Annum        1820.0   \n",
       "4                     ACTIVE     86005.0  per Annum        1820.0   \n",
       "\n",
       "  Regular Gross Paid OT Hours Total OT Paid Total Other Pay  \n",
       "0           84698.21      0.0           0.0             0.0  \n",
       "1           84698.21      0.0           0.0             0.0  \n",
       "2           84698.21      0.0           0.0             0.0  \n",
       "3           84698.21      0.0           0.0             0.0  \n",
       "4           84698.21      0.0           0.0             0.0  "
      ]
     },
     "execution_count": 4,
     "metadata": {},
     "output_type": "execute_result"
    }
   ],
   "source": [
    "df.head()"
   ]
  },
  {
   "cell_type": "markdown",
   "id": "e48ba275",
   "metadata": {},
   "source": [
    "#fix this [stupid] dtype problem "
   ]
  },
  {
   "cell_type": "code",
   "execution_count": 17,
   "id": "d2eae08b",
   "metadata": {},
   "outputs": [
    {
     "data": {
      "text/plain": [
       "Unnamed: 0.1                   object\n",
       "Unnamed: 0                     object\n",
       "Fiscal Year                    object\n",
       "Payroll Number                 object\n",
       "Agency Name                    object\n",
       "Last Name                      object\n",
       "First Name                     object\n",
       "Mid Init                       object\n",
       "Agency Start Date              object\n",
       "Work Location Borough          object\n",
       "Title Description              object\n",
       "Leave Status as of June 30     object\n",
       "Base Salary                   float64\n",
       "Pay Basis                      object\n",
       "Regular Hours                 float64\n",
       "Regular Gross Paid            float64\n",
       "OT Hours                      float64\n",
       "Total OT Paid                 float64\n",
       "Total Other Pay               float64\n",
       "dtype: object"
      ]
     },
     "execution_count": 17,
     "metadata": {},
     "output_type": "execute_result"
    }
   ],
   "source": [
    "df = df.astype({\"Base Salary\":'float64', \"Regular Hours\":'float64', \"Regular Gross Paid\":'float64', \"OT Hours\":'float64', \"Total OT Paid\":'float64', \"Total Other Pay\":'float64', \"Agency Name\":'str'   }) \n",
    "df.dtypes\n",
    "\n",
    "#,,"
   ]
  },
  {
   "cell_type": "code",
   "execution_count": 16,
   "id": "eade8a37",
   "metadata": {},
   "outputs": [],
   "source": [
    "#export with proper data types\n",
    "df.to_csv(os.path.join(preparedDataPath, 'payroll_dtype.csv'))"
   ]
  },
  {
   "cell_type": "code",
   "execution_count": 18,
   "id": "838a8e3d",
   "metadata": {},
   "outputs": [],
   "source": [
    "#checkpoint close and halt"
   ]
  },
  {
   "cell_type": "code",
   "execution_count": 17,
   "id": "86793e40",
   "metadata": {},
   "outputs": [],
   "source": [
    "#create dataframe with dataset with correct dtype\n",
    "df=pd.read_csv(os.path.join(preparedDataPath, 'payroll_dtype.csv'))"
   ]
  },
  {
   "cell_type": "code",
   "execution_count": 18,
   "id": "9a350ed5",
   "metadata": {},
   "outputs": [
    {
     "data": {
      "text/html": [
       "<div>\n",
       "<style scoped>\n",
       "    .dataframe tbody tr th:only-of-type {\n",
       "        vertical-align: middle;\n",
       "    }\n",
       "\n",
       "    .dataframe tbody tr th {\n",
       "        vertical-align: top;\n",
       "    }\n",
       "\n",
       "    .dataframe thead th {\n",
       "        text-align: right;\n",
       "    }\n",
       "</style>\n",
       "<table border=\"1\" class=\"dataframe\">\n",
       "  <thead>\n",
       "    <tr style=\"text-align: right;\">\n",
       "      <th></th>\n",
       "      <th>Unnamed: 0.2</th>\n",
       "      <th>Unnamed: 0.1</th>\n",
       "      <th>Unnamed: 0</th>\n",
       "      <th>Fiscal Year</th>\n",
       "      <th>Payroll Number</th>\n",
       "      <th>Agency Name</th>\n",
       "      <th>Last Name</th>\n",
       "      <th>First Name</th>\n",
       "      <th>Mid Init</th>\n",
       "      <th>Agency Start Date</th>\n",
       "      <th>Work Location Borough</th>\n",
       "      <th>Title Description</th>\n",
       "      <th>Leave Status as of June 30</th>\n",
       "      <th>Base Salary</th>\n",
       "      <th>Pay Basis</th>\n",
       "      <th>Regular Hours</th>\n",
       "      <th>Regular Gross Paid</th>\n",
       "      <th>OT Hours</th>\n",
       "      <th>Total OT Paid</th>\n",
       "      <th>Total Other Pay</th>\n",
       "    </tr>\n",
       "  </thead>\n",
       "  <tbody>\n",
       "    <tr>\n",
       "      <th>0</th>\n",
       "      <td>0</td>\n",
       "      <td>0</td>\n",
       "      <td>0</td>\n",
       "      <td>2020</td>\n",
       "      <td>17.0</td>\n",
       "      <td>OFFICE OF EMERGENCY MANAGEMENT</td>\n",
       "      <td>BEREZIN</td>\n",
       "      <td>MIKHAIL</td>\n",
       "      <td>NaN</td>\n",
       "      <td>08/10/2015</td>\n",
       "      <td>BROOKLYN</td>\n",
       "      <td>EMERGENCY PREPAREDNESS MANAGER</td>\n",
       "      <td>ACTIVE</td>\n",
       "      <td>86005.0</td>\n",
       "      <td>per Annum</td>\n",
       "      <td>1820.0</td>\n",
       "      <td>84698.21</td>\n",
       "      <td>0.0</td>\n",
       "      <td>0.0</td>\n",
       "      <td>0.0</td>\n",
       "    </tr>\n",
       "    <tr>\n",
       "      <th>1</th>\n",
       "      <td>1</td>\n",
       "      <td>1</td>\n",
       "      <td>1</td>\n",
       "      <td>2020</td>\n",
       "      <td>17.0</td>\n",
       "      <td>OFFICE OF EMERGENCY MANAGEMENT</td>\n",
       "      <td>GEAGER</td>\n",
       "      <td>VERONICA</td>\n",
       "      <td>M</td>\n",
       "      <td>09/12/2016</td>\n",
       "      <td>BROOKLYN</td>\n",
       "      <td>EMERGENCY PREPAREDNESS MANAGER</td>\n",
       "      <td>ACTIVE</td>\n",
       "      <td>86005.0</td>\n",
       "      <td>per Annum</td>\n",
       "      <td>1820.0</td>\n",
       "      <td>84698.21</td>\n",
       "      <td>0.0</td>\n",
       "      <td>0.0</td>\n",
       "      <td>0.0</td>\n",
       "    </tr>\n",
       "    <tr>\n",
       "      <th>2</th>\n",
       "      <td>2</td>\n",
       "      <td>2</td>\n",
       "      <td>2</td>\n",
       "      <td>2020</td>\n",
       "      <td>17.0</td>\n",
       "      <td>OFFICE OF EMERGENCY MANAGEMENT</td>\n",
       "      <td>RAMANI</td>\n",
       "      <td>SHRADDHA</td>\n",
       "      <td>NaN</td>\n",
       "      <td>02/22/2016</td>\n",
       "      <td>BROOKLYN</td>\n",
       "      <td>EMERGENCY PREPAREDNESS MANAGER</td>\n",
       "      <td>ACTIVE</td>\n",
       "      <td>86005.0</td>\n",
       "      <td>per Annum</td>\n",
       "      <td>1820.0</td>\n",
       "      <td>84698.21</td>\n",
       "      <td>0.0</td>\n",
       "      <td>0.0</td>\n",
       "      <td>0.0</td>\n",
       "    </tr>\n",
       "    <tr>\n",
       "      <th>3</th>\n",
       "      <td>3</td>\n",
       "      <td>3</td>\n",
       "      <td>3</td>\n",
       "      <td>2020</td>\n",
       "      <td>17.0</td>\n",
       "      <td>OFFICE OF EMERGENCY MANAGEMENT</td>\n",
       "      <td>ROTTA</td>\n",
       "      <td>JONATHAN</td>\n",
       "      <td>D</td>\n",
       "      <td>09/16/2013</td>\n",
       "      <td>BROOKLYN</td>\n",
       "      <td>EMERGENCY PREPAREDNESS MANAGER</td>\n",
       "      <td>ACTIVE</td>\n",
       "      <td>86005.0</td>\n",
       "      <td>per Annum</td>\n",
       "      <td>1820.0</td>\n",
       "      <td>84698.21</td>\n",
       "      <td>0.0</td>\n",
       "      <td>0.0</td>\n",
       "      <td>0.0</td>\n",
       "    </tr>\n",
       "    <tr>\n",
       "      <th>4</th>\n",
       "      <td>4</td>\n",
       "      <td>4</td>\n",
       "      <td>4</td>\n",
       "      <td>2020</td>\n",
       "      <td>17.0</td>\n",
       "      <td>OFFICE OF EMERGENCY MANAGEMENT</td>\n",
       "      <td>WILSON II</td>\n",
       "      <td>ROBERT</td>\n",
       "      <td>P</td>\n",
       "      <td>04/30/2018</td>\n",
       "      <td>BROOKLYN</td>\n",
       "      <td>EMERGENCY PREPAREDNESS MANAGER</td>\n",
       "      <td>ACTIVE</td>\n",
       "      <td>86005.0</td>\n",
       "      <td>per Annum</td>\n",
       "      <td>1820.0</td>\n",
       "      <td>84698.21</td>\n",
       "      <td>0.0</td>\n",
       "      <td>0.0</td>\n",
       "      <td>0.0</td>\n",
       "    </tr>\n",
       "  </tbody>\n",
       "</table>\n",
       "</div>"
      ],
      "text/plain": [
       "   Unnamed: 0.2  Unnamed: 0.1  Unnamed: 0  Fiscal Year  Payroll Number  \\\n",
       "0             0             0           0         2020            17.0   \n",
       "1             1             1           1         2020            17.0   \n",
       "2             2             2           2         2020            17.0   \n",
       "3             3             3           3         2020            17.0   \n",
       "4             4             4           4         2020            17.0   \n",
       "\n",
       "                      Agency Name  Last Name First Name Mid Init  \\\n",
       "0  OFFICE OF EMERGENCY MANAGEMENT    BEREZIN    MIKHAIL      NaN   \n",
       "1  OFFICE OF EMERGENCY MANAGEMENT     GEAGER   VERONICA        M   \n",
       "2  OFFICE OF EMERGENCY MANAGEMENT     RAMANI   SHRADDHA      NaN   \n",
       "3  OFFICE OF EMERGENCY MANAGEMENT      ROTTA   JONATHAN        D   \n",
       "4  OFFICE OF EMERGENCY MANAGEMENT  WILSON II     ROBERT        P   \n",
       "\n",
       "  Agency Start Date Work Location Borough               Title Description  \\\n",
       "0        08/10/2015              BROOKLYN  EMERGENCY PREPAREDNESS MANAGER   \n",
       "1        09/12/2016              BROOKLYN  EMERGENCY PREPAREDNESS MANAGER   \n",
       "2        02/22/2016              BROOKLYN  EMERGENCY PREPAREDNESS MANAGER   \n",
       "3        09/16/2013              BROOKLYN  EMERGENCY PREPAREDNESS MANAGER   \n",
       "4        04/30/2018              BROOKLYN  EMERGENCY PREPAREDNESS MANAGER   \n",
       "\n",
       "  Leave Status as of June 30  Base Salary  Pay Basis  Regular Hours  \\\n",
       "0                     ACTIVE      86005.0  per Annum         1820.0   \n",
       "1                     ACTIVE      86005.0  per Annum         1820.0   \n",
       "2                     ACTIVE      86005.0  per Annum         1820.0   \n",
       "3                     ACTIVE      86005.0  per Annum         1820.0   \n",
       "4                     ACTIVE      86005.0  per Annum         1820.0   \n",
       "\n",
       "   Regular Gross Paid  OT Hours  Total OT Paid  Total Other Pay  \n",
       "0            84698.21       0.0            0.0              0.0  \n",
       "1            84698.21       0.0            0.0              0.0  \n",
       "2            84698.21       0.0            0.0              0.0  \n",
       "3            84698.21       0.0            0.0              0.0  \n",
       "4            84698.21       0.0            0.0              0.0  "
      ]
     },
     "execution_count": 18,
     "metadata": {},
     "output_type": "execute_result"
    }
   ],
   "source": [
    "df.head()"
   ]
  },
  {
   "cell_type": "code",
   "execution_count": 19,
   "id": "abb1e86a",
   "metadata": {},
   "outputs": [
    {
     "name": "stdout",
     "output_type": "stream",
     "text": [
      "<class 'pandas.core.frame.DataFrame'>\n",
      "RangeIndex: 4915392 entries, 0 to 4915391\n",
      "Data columns (total 20 columns):\n",
      " #   Column                      Dtype  \n",
      "---  ------                      -----  \n",
      " 0   Unnamed: 0.2                int64  \n",
      " 1   Unnamed: 0.1                int64  \n",
      " 2   Unnamed: 0                  int64  \n",
      " 3   Fiscal Year                 int64  \n",
      " 4   Payroll Number              float64\n",
      " 5   Agency Name                 object \n",
      " 6   Last Name                   object \n",
      " 7   First Name                  object \n",
      " 8   Mid Init                    object \n",
      " 9   Agency Start Date           object \n",
      " 10  Work Location Borough       object \n",
      " 11  Title Description           object \n",
      " 12  Leave Status as of June 30  object \n",
      " 13  Base Salary                 float64\n",
      " 14  Pay Basis                   object \n",
      " 15  Regular Hours               float64\n",
      " 16  Regular Gross Paid          float64\n",
      " 17  OT Hours                    float64\n",
      " 18  Total OT Paid               float64\n",
      " 19  Total Other Pay             float64\n",
      "dtypes: float64(7), int64(4), object(9)\n",
      "memory usage: 750.0+ MB\n"
     ]
    }
   ],
   "source": [
    "df.info()"
   ]
  },
  {
   "cell_type": "markdown",
   "id": "558b72af",
   "metadata": {},
   "source": []
  },
  {
   "cell_type": "code",
   "execution_count": 7,
   "id": "fe7ee88b",
   "metadata": {},
   "outputs": [
    {
     "name": "stdout",
     "output_type": "stream",
     "text": [
      "<class 'pandas.core.frame.DataFrame'>\n",
      "RangeIndex: 4915389 entries, 3 to 4915391\n",
      "Data columns (total 20 columns):\n",
      " #   Column                      Dtype  \n",
      "---  ------                      -----  \n",
      " 0   Unnamed: 0.2                int64  \n",
      " 1   Unnamed: 0.1                int64  \n",
      " 2   Unnamed: 0                  int64  \n",
      " 3   Fiscal Year                 int64  \n",
      " 4   Payroll Number              float64\n",
      " 5   Agency Name                 object \n",
      " 6   Last Name                   object \n",
      " 7   First Name                  object \n",
      " 8   Mid Init                    object \n",
      " 9   Agency Start Date           object \n",
      " 10  Work Location Borough       object \n",
      " 11  Title Description           object \n",
      " 12  Leave Status as of June 30  object \n",
      " 13  Base Salary                 float64\n",
      " 14  Pay Basis                   object \n",
      " 15  Regular Hours               float64\n",
      " 16  Regular Gross Paid          float64\n",
      " 17  OT Hours                    float64\n",
      " 18  Total OT Paid               float64\n",
      " 19  Total Other Pay             float64\n",
      "dtypes: float64(7), int64(4), object(9)\n",
      "memory usage: 750.0+ MB\n"
     ]
    }
   ],
   "source": [
    "df.info()"
   ]
  },
  {
   "cell_type": "markdown",
   "id": "45d30385",
   "metadata": {},
   "source": [
    "### Continue searching for nulls"
   ]
  },
  {
   "cell_type": "code",
   "execution_count": 20,
   "id": "8ba3e7e7",
   "metadata": {},
   "outputs": [
    {
     "data": {
      "text/plain": [
       "55"
      ]
     },
     "execution_count": 20,
     "metadata": {},
     "output_type": "execute_result"
    }
   ],
   "source": [
    "df['Title Description'].isnull().sum()"
   ]
  },
  {
   "cell_type": "code",
   "execution_count": 21,
   "id": "b8f0b6a9",
   "metadata": {},
   "outputs": [],
   "source": [
    "#subset to no nulls\n",
    "df_title=df[df['Title Description'].notnull()]"
   ]
  },
  {
   "cell_type": "code",
   "execution_count": 22,
   "id": "af1b6569",
   "metadata": {},
   "outputs": [
    {
     "data": {
      "text/plain": [
       "(4915337, 20)"
      ]
     },
     "execution_count": 22,
     "metadata": {},
     "output_type": "execute_result"
    }
   ],
   "source": [
    "df_title.shape"
   ]
  },
  {
   "cell_type": "code",
   "execution_count": 23,
   "id": "28b113f7",
   "metadata": {},
   "outputs": [
    {
     "data": {
      "text/plain": [
       "4915337"
      ]
     },
     "execution_count": 23,
     "metadata": {},
     "output_type": "execute_result"
    }
   ],
   "source": [
    "4915392-55"
   ]
  },
  {
   "cell_type": "code",
   "execution_count": 24,
   "id": "cc3a1e40",
   "metadata": {},
   "outputs": [],
   "source": [
    "#export to csv\n",
    "df_title.to_csv(os.path.join(preparedDataPath, 'payroll_title.csv'))"
   ]
  },
  {
   "cell_type": "markdown",
   "id": "51a7016a",
   "metadata": {},
   "source": [
    "#checkpoint and halt"
   ]
  },
  {
   "cell_type": "code",
   "execution_count": 3,
   "id": "40a2b1b0",
   "metadata": {},
   "outputs": [],
   "source": [
    "#create dataframe with dataset from good title data, cut extra index columns\n",
    "goodcols=[\"Fiscal Year\",\"Payroll Number\",\"Agency Name\",\"Last Name\",\"First Name\",\"Mid Init\",\"Agency Start Date\",\"Work Location Borough\",\"Title Description\",\"Leave Status as of June 30\",\"Base Salary\",\"Pay Basis\",\"Regular Hours\",\"Regular Gross Paid\",\"OT Hours\",\"Total OT Paid\",\"Total Other Pay\"]\n",
    "df=pd.read_csv(os.path.join(preparedDataPath,'payroll_title.csv'),usecols=goodcols)"
   ]
  },
  {
   "cell_type": "code",
   "execution_count": 4,
   "id": "4c7bc93d",
   "metadata": {},
   "outputs": [
    {
     "data": {
      "text/html": [
       "<div>\n",
       "<style scoped>\n",
       "    .dataframe tbody tr th:only-of-type {\n",
       "        vertical-align: middle;\n",
       "    }\n",
       "\n",
       "    .dataframe tbody tr th {\n",
       "        vertical-align: top;\n",
       "    }\n",
       "\n",
       "    .dataframe thead th {\n",
       "        text-align: right;\n",
       "    }\n",
       "</style>\n",
       "<table border=\"1\" class=\"dataframe\">\n",
       "  <thead>\n",
       "    <tr style=\"text-align: right;\">\n",
       "      <th></th>\n",
       "      <th>Fiscal Year</th>\n",
       "      <th>Payroll Number</th>\n",
       "      <th>Agency Name</th>\n",
       "      <th>Last Name</th>\n",
       "      <th>First Name</th>\n",
       "      <th>Mid Init</th>\n",
       "      <th>Agency Start Date</th>\n",
       "      <th>Work Location Borough</th>\n",
       "      <th>Title Description</th>\n",
       "      <th>Leave Status as of June 30</th>\n",
       "      <th>Base Salary</th>\n",
       "      <th>Pay Basis</th>\n",
       "      <th>Regular Hours</th>\n",
       "      <th>Regular Gross Paid</th>\n",
       "      <th>OT Hours</th>\n",
       "      <th>Total OT Paid</th>\n",
       "      <th>Total Other Pay</th>\n",
       "    </tr>\n",
       "  </thead>\n",
       "  <tbody>\n",
       "    <tr>\n",
       "      <th>0</th>\n",
       "      <td>2020</td>\n",
       "      <td>17.0</td>\n",
       "      <td>OFFICE OF EMERGENCY MANAGEMENT</td>\n",
       "      <td>BEREZIN</td>\n",
       "      <td>MIKHAIL</td>\n",
       "      <td>NaN</td>\n",
       "      <td>08/10/2015</td>\n",
       "      <td>BROOKLYN</td>\n",
       "      <td>EMERGENCY PREPAREDNESS MANAGER</td>\n",
       "      <td>ACTIVE</td>\n",
       "      <td>86005.0</td>\n",
       "      <td>per Annum</td>\n",
       "      <td>1820.0</td>\n",
       "      <td>84698.21</td>\n",
       "      <td>0.0</td>\n",
       "      <td>0.0</td>\n",
       "      <td>0.0</td>\n",
       "    </tr>\n",
       "    <tr>\n",
       "      <th>1</th>\n",
       "      <td>2020</td>\n",
       "      <td>17.0</td>\n",
       "      <td>OFFICE OF EMERGENCY MANAGEMENT</td>\n",
       "      <td>GEAGER</td>\n",
       "      <td>VERONICA</td>\n",
       "      <td>M</td>\n",
       "      <td>09/12/2016</td>\n",
       "      <td>BROOKLYN</td>\n",
       "      <td>EMERGENCY PREPAREDNESS MANAGER</td>\n",
       "      <td>ACTIVE</td>\n",
       "      <td>86005.0</td>\n",
       "      <td>per Annum</td>\n",
       "      <td>1820.0</td>\n",
       "      <td>84698.21</td>\n",
       "      <td>0.0</td>\n",
       "      <td>0.0</td>\n",
       "      <td>0.0</td>\n",
       "    </tr>\n",
       "    <tr>\n",
       "      <th>2</th>\n",
       "      <td>2020</td>\n",
       "      <td>17.0</td>\n",
       "      <td>OFFICE OF EMERGENCY MANAGEMENT</td>\n",
       "      <td>RAMANI</td>\n",
       "      <td>SHRADDHA</td>\n",
       "      <td>NaN</td>\n",
       "      <td>02/22/2016</td>\n",
       "      <td>BROOKLYN</td>\n",
       "      <td>EMERGENCY PREPAREDNESS MANAGER</td>\n",
       "      <td>ACTIVE</td>\n",
       "      <td>86005.0</td>\n",
       "      <td>per Annum</td>\n",
       "      <td>1820.0</td>\n",
       "      <td>84698.21</td>\n",
       "      <td>0.0</td>\n",
       "      <td>0.0</td>\n",
       "      <td>0.0</td>\n",
       "    </tr>\n",
       "    <tr>\n",
       "      <th>3</th>\n",
       "      <td>2020</td>\n",
       "      <td>17.0</td>\n",
       "      <td>OFFICE OF EMERGENCY MANAGEMENT</td>\n",
       "      <td>ROTTA</td>\n",
       "      <td>JONATHAN</td>\n",
       "      <td>D</td>\n",
       "      <td>09/16/2013</td>\n",
       "      <td>BROOKLYN</td>\n",
       "      <td>EMERGENCY PREPAREDNESS MANAGER</td>\n",
       "      <td>ACTIVE</td>\n",
       "      <td>86005.0</td>\n",
       "      <td>per Annum</td>\n",
       "      <td>1820.0</td>\n",
       "      <td>84698.21</td>\n",
       "      <td>0.0</td>\n",
       "      <td>0.0</td>\n",
       "      <td>0.0</td>\n",
       "    </tr>\n",
       "    <tr>\n",
       "      <th>4</th>\n",
       "      <td>2020</td>\n",
       "      <td>17.0</td>\n",
       "      <td>OFFICE OF EMERGENCY MANAGEMENT</td>\n",
       "      <td>WILSON II</td>\n",
       "      <td>ROBERT</td>\n",
       "      <td>P</td>\n",
       "      <td>04/30/2018</td>\n",
       "      <td>BROOKLYN</td>\n",
       "      <td>EMERGENCY PREPAREDNESS MANAGER</td>\n",
       "      <td>ACTIVE</td>\n",
       "      <td>86005.0</td>\n",
       "      <td>per Annum</td>\n",
       "      <td>1820.0</td>\n",
       "      <td>84698.21</td>\n",
       "      <td>0.0</td>\n",
       "      <td>0.0</td>\n",
       "      <td>0.0</td>\n",
       "    </tr>\n",
       "  </tbody>\n",
       "</table>\n",
       "</div>"
      ],
      "text/plain": [
       "   Fiscal Year  Payroll Number                     Agency Name  Last Name  \\\n",
       "0         2020            17.0  OFFICE OF EMERGENCY MANAGEMENT    BEREZIN   \n",
       "1         2020            17.0  OFFICE OF EMERGENCY MANAGEMENT     GEAGER   \n",
       "2         2020            17.0  OFFICE OF EMERGENCY MANAGEMENT     RAMANI   \n",
       "3         2020            17.0  OFFICE OF EMERGENCY MANAGEMENT      ROTTA   \n",
       "4         2020            17.0  OFFICE OF EMERGENCY MANAGEMENT  WILSON II   \n",
       "\n",
       "  First Name Mid Init Agency Start Date Work Location Borough  \\\n",
       "0    MIKHAIL      NaN        08/10/2015              BROOKLYN   \n",
       "1   VERONICA        M        09/12/2016              BROOKLYN   \n",
       "2   SHRADDHA      NaN        02/22/2016              BROOKLYN   \n",
       "3   JONATHAN        D        09/16/2013              BROOKLYN   \n",
       "4     ROBERT        P        04/30/2018              BROOKLYN   \n",
       "\n",
       "                Title Description Leave Status as of June 30  Base Salary  \\\n",
       "0  EMERGENCY PREPAREDNESS MANAGER                     ACTIVE      86005.0   \n",
       "1  EMERGENCY PREPAREDNESS MANAGER                     ACTIVE      86005.0   \n",
       "2  EMERGENCY PREPAREDNESS MANAGER                     ACTIVE      86005.0   \n",
       "3  EMERGENCY PREPAREDNESS MANAGER                     ACTIVE      86005.0   \n",
       "4  EMERGENCY PREPAREDNESS MANAGER                     ACTIVE      86005.0   \n",
       "\n",
       "   Pay Basis  Regular Hours  Regular Gross Paid  OT Hours  Total OT Paid  \\\n",
       "0  per Annum         1820.0            84698.21       0.0            0.0   \n",
       "1  per Annum         1820.0            84698.21       0.0            0.0   \n",
       "2  per Annum         1820.0            84698.21       0.0            0.0   \n",
       "3  per Annum         1820.0            84698.21       0.0            0.0   \n",
       "4  per Annum         1820.0            84698.21       0.0            0.0   \n",
       "\n",
       "   Total Other Pay  \n",
       "0              0.0  \n",
       "1              0.0  \n",
       "2              0.0  \n",
       "3              0.0  \n",
       "4              0.0  "
      ]
     },
     "execution_count": 4,
     "metadata": {},
     "output_type": "execute_result"
    }
   ],
   "source": [
    "df.head()"
   ]
  },
  {
   "cell_type": "code",
   "execution_count": 5,
   "id": "e3953a85",
   "metadata": {},
   "outputs": [
    {
     "data": {
      "text/plain": [
       "(4915337, 17)"
      ]
     },
     "execution_count": 5,
     "metadata": {},
     "output_type": "execute_result"
    }
   ],
   "source": [
    "df.shape"
   ]
  },
  {
   "cell_type": "code",
   "execution_count": 6,
   "id": "3fcf18e0",
   "metadata": {},
   "outputs": [
    {
     "name": "stdout",
     "output_type": "stream",
     "text": [
      "<class 'pandas.core.frame.DataFrame'>\n",
      "RangeIndex: 4915337 entries, 0 to 4915336\n",
      "Data columns (total 17 columns):\n",
      " #   Column                      Dtype  \n",
      "---  ------                      -----  \n",
      " 0   Fiscal Year                 int64  \n",
      " 1   Payroll Number              float64\n",
      " 2   Agency Name                 object \n",
      " 3   Last Name                   object \n",
      " 4   First Name                  object \n",
      " 5   Mid Init                    object \n",
      " 6   Agency Start Date           object \n",
      " 7   Work Location Borough       object \n",
      " 8   Title Description           object \n",
      " 9   Leave Status as of June 30  object \n",
      " 10  Base Salary                 float64\n",
      " 11  Pay Basis                   object \n",
      " 12  Regular Hours               float64\n",
      " 13  Regular Gross Paid          float64\n",
      " 14  OT Hours                    float64\n",
      " 15  Total OT Paid               float64\n",
      " 16  Total Other Pay             float64\n",
      "dtypes: float64(7), int64(1), object(9)\n",
      "memory usage: 637.5+ MB\n"
     ]
    }
   ],
   "source": [
    "df.info()"
   ]
  },
  {
   "cell_type": "code",
   "execution_count": 7,
   "id": "c78f1ca3",
   "metadata": {},
   "outputs": [
    {
     "data": {
      "text/plain": [
       "Fiscal Year                    object\n",
       "Payroll Number                 object\n",
       "Agency Name                    object\n",
       "Last Name                      object\n",
       "First Name                     object\n",
       "Mid Init                       object\n",
       "Agency Start Date              object\n",
       "Work Location Borough          object\n",
       "Title Description              object\n",
       "Leave Status as of June 30     object\n",
       "Base Salary                   float64\n",
       "Pay Basis                      object\n",
       "Regular Hours                 float64\n",
       "Regular Gross Paid            float64\n",
       "OT Hours                      float64\n",
       "Total OT Paid                 float64\n",
       "Total Other Pay               float64\n",
       "dtype: object"
      ]
     },
     "execution_count": 7,
     "metadata": {},
     "output_type": "execute_result"
    }
   ],
   "source": [
    "df = df.astype({\"Fiscal Year\":'str', \"Payroll Number\":'str' }) \n",
    "df.dtypes"
   ]
  },
  {
   "cell_type": "markdown",
   "id": "d14d4d0b",
   "metadata": {},
   "source": [
    "#create unique identifier for employees"
   ]
  },
  {
   "cell_type": "code",
   "execution_count": 44,
   "id": "d5631494",
   "metadata": {},
   "outputs": [],
   "source": [
    "import random, string\n",
    "\n"
   ]
  },
  {
   "cell_type": "code",
   "execution_count": 45,
   "id": "ac0f7b0c",
   "metadata": {},
   "outputs": [],
   "source": [
    "def randomword(length):\n",
    "    letters = string.ascii_lowercase\n",
    "    return ''.join(random.choice(letters) for i in range(length))"
   ]
  },
  {
   "cell_type": "code",
   "execution_count": 25,
   "id": "46908ce9",
   "metadata": {},
   "outputs": [
    {
     "data": {
      "text/plain": [
       "'illytaol'"
      ]
     },
     "execution_count": 25,
     "metadata": {},
     "output_type": "execute_result"
    }
   ],
   "source": [
    "randomword(8)"
   ]
  },
  {
   "cell_type": "code",
   "execution_count": 8,
   "id": "971dbe7c",
   "metadata": {},
   "outputs": [],
   "source": [
    "df['First Name']=df['First Name'].fillna(value=\"%\")"
   ]
  },
  {
   "cell_type": "code",
   "execution_count": 35,
   "id": "7822edb4",
   "metadata": {},
   "outputs": [
    {
     "data": {
      "text/plain": [
       "MICHAEL           74642\n",
       "JOHN              47700\n",
       "JOSEPH            41069\n",
       "MARIA             38704\n",
       "ROBERT            38694\n",
       "                  ...  \n",
       "JIAMO                 1\n",
       "JINGPING DANNY        1\n",
       "KOKOSHEN              1\n",
       "MIAO JI               1\n",
       "LAMONA                1\n",
       "Name: First Name, Length: 97762, dtype: int64"
      ]
     },
     "execution_count": 35,
     "metadata": {},
     "output_type": "execute_result"
    }
   ],
   "source": [
    "df['First Name'].value_counts(dropna=False)"
   ]
  },
  {
   "cell_type": "code",
   "execution_count": 9,
   "id": "244671a5",
   "metadata": {},
   "outputs": [],
   "source": [
    "df['Last Name']=df['Last Name'].fillna(value=\"%\")"
   ]
  },
  {
   "cell_type": "code",
   "execution_count": 10,
   "id": "c7e2207e",
   "metadata": {},
   "outputs": [],
   "source": [
    "df['Mid Init']=df['Mid Init'].fillna(value=\"%\")"
   ]
  },
  {
   "cell_type": "code",
   "execution_count": 11,
   "id": "f58e9b3b",
   "metadata": {},
   "outputs": [],
   "source": [
    "df['fullname_date'] = df['First Name'] + df['Mid Init'] + df['Last Name'] + df['Agency Start Date']"
   ]
  },
  {
   "cell_type": "code",
   "execution_count": 17,
   "id": "40c0a73c",
   "metadata": {},
   "outputs": [
    {
     "data": {
      "text/plain": [
       "0          False\n",
       "1          False\n",
       "2           True\n",
       "3          False\n",
       "4          False\n",
       "           ...  \n",
       "4915332     True\n",
       "4915333     True\n",
       "4915334     True\n",
       "4915335     True\n",
       "4915336     True\n",
       "Name: fullname, Length: 4915337, dtype: bool"
      ]
     },
     "execution_count": 17,
     "metadata": {},
     "output_type": "execute_result"
    }
   ],
   "source": [
    "df['fullname'].duplicated()"
   ]
  },
  {
   "cell_type": "code",
   "execution_count": 12,
   "id": "107d583c",
   "metadata": {},
   "outputs": [
    {
     "data": {
      "text/plain": [
       "AMANDA%HALL08/30/2000             41\n",
       "LIANA%ERSTENYUK05/03/2010         38\n",
       "JULIEMVEGA02/27/1988              37\n",
       "SUSANGNERI-FRIEDWALD10/10/2007    36\n",
       "YEVGENIY%MILMAN01/28/2010         35\n",
       "                                  ..\n",
       "KIMBERLYJBAYER01/19/2010           1\n",
       "RYANMWHALEN01/25/2010              1\n",
       "MICHAELEPOWELL JR02/22/2010        1\n",
       "HOWARDLWOLFSON03/01/2010           1\n",
       "JULIALZITA08/23/2021               1\n",
       "Name: fullname_date, Length: 969930, dtype: int64"
      ]
     },
     "execution_count": 12,
     "metadata": {},
     "output_type": "execute_result"
    }
   ],
   "source": [
    "df['fullname_date'].value_counts(dropna=False)"
   ]
  },
  {
   "cell_type": "code",
   "execution_count": 40,
   "id": "d5a72157",
   "metadata": {},
   "outputs": [],
   "source": [
    "#export to csv with new fullname_date\n",
    "df.to_csv(os.path.join(preparedDataPath, 'payroll_fullnamedate.csv'))"
   ]
  },
  {
   "cell_type": "code",
   "execution_count": 66,
   "id": "63557157",
   "metadata": {},
   "outputs": [],
   "source": [
    "#create dataframe with dataset from good title data, cut extra index columns\n",
    "goodcols=[\"fullname_date\"]\n",
    "df=pd.read_csv(os.path.join(preparedDataPath,'payroll_fullnamedate.csv'),usecols=goodcols)"
   ]
  },
  {
   "cell_type": "code",
   "execution_count": 67,
   "id": "1fcfef2c",
   "metadata": {},
   "outputs": [
    {
     "data": {
      "text/plain": [
       "(4915337, 1)"
      ]
     },
     "execution_count": 67,
     "metadata": {},
     "output_type": "execute_result"
    }
   ],
   "source": [
    "df.shape"
   ]
  },
  {
   "cell_type": "code",
   "execution_count": 68,
   "id": "7bd59091",
   "metadata": {},
   "outputs": [],
   "source": [
    "df=df.drop_duplicates()"
   ]
  },
  {
   "cell_type": "code",
   "execution_count": 69,
   "id": "dc65646c",
   "metadata": {},
   "outputs": [
    {
     "data": {
      "text/plain": [
       "(969930, 1)"
      ]
     },
     "execution_count": 69,
     "metadata": {},
     "output_type": "execute_result"
    }
   ],
   "source": [
    "df.shape"
   ]
  },
  {
   "cell_type": "code",
   "execution_count": 70,
   "id": "cffc0460",
   "metadata": {},
   "outputs": [],
   "source": [
    "df['unique_id'] = [randomword(8) for _ in range(len(df.index))]"
   ]
  },
  {
   "cell_type": "code",
   "execution_count": 71,
   "id": "28d62504",
   "metadata": {},
   "outputs": [
    {
     "data": {
      "text/html": [
       "<div>\n",
       "<style scoped>\n",
       "    .dataframe tbody tr th:only-of-type {\n",
       "        vertical-align: middle;\n",
       "    }\n",
       "\n",
       "    .dataframe tbody tr th {\n",
       "        vertical-align: top;\n",
       "    }\n",
       "\n",
       "    .dataframe thead th {\n",
       "        text-align: right;\n",
       "    }\n",
       "</style>\n",
       "<table border=\"1\" class=\"dataframe\">\n",
       "  <thead>\n",
       "    <tr style=\"text-align: right;\">\n",
       "      <th></th>\n",
       "      <th>fullname_date</th>\n",
       "      <th>unique_id</th>\n",
       "    </tr>\n",
       "  </thead>\n",
       "  <tbody>\n",
       "    <tr>\n",
       "      <th>0</th>\n",
       "      <td>MIKHAIL%BEREZIN08/10/2015</td>\n",
       "      <td>emgiazxy</td>\n",
       "    </tr>\n",
       "    <tr>\n",
       "      <th>1</th>\n",
       "      <td>VERONICAMGEAGER09/12/2016</td>\n",
       "      <td>qcekinkp</td>\n",
       "    </tr>\n",
       "    <tr>\n",
       "      <th>2</th>\n",
       "      <td>SHRADDHA%RAMANI02/22/2016</td>\n",
       "      <td>vihcvktl</td>\n",
       "    </tr>\n",
       "    <tr>\n",
       "      <th>3</th>\n",
       "      <td>JONATHANDROTTA09/16/2013</td>\n",
       "      <td>ototwwxb</td>\n",
       "    </tr>\n",
       "    <tr>\n",
       "      <th>4</th>\n",
       "      <td>ROBERTPWILSON II04/30/2018</td>\n",
       "      <td>oskpiihm</td>\n",
       "    </tr>\n",
       "  </tbody>\n",
       "</table>\n",
       "</div>"
      ],
      "text/plain": [
       "                fullname_date unique_id\n",
       "0   MIKHAIL%BEREZIN08/10/2015  emgiazxy\n",
       "1   VERONICAMGEAGER09/12/2016  qcekinkp\n",
       "2   SHRADDHA%RAMANI02/22/2016  vihcvktl\n",
       "3    JONATHANDROTTA09/16/2013  ototwwxb\n",
       "4  ROBERTPWILSON II04/30/2018  oskpiihm"
      ]
     },
     "execution_count": 71,
     "metadata": {},
     "output_type": "execute_result"
    }
   ],
   "source": [
    "df.head()"
   ]
  },
  {
   "cell_type": "markdown",
   "id": "0f4cee11",
   "metadata": {},
   "source": [
    "#Export Employee Lookup Table to seperate CSV file"
   ]
  },
  {
   "cell_type": "code",
   "execution_count": 72,
   "id": "f7fb8b3f",
   "metadata": {},
   "outputs": [],
   "source": [
    "#export to csv\n",
    "df.to_csv(os.path.join(preparedDataPath, 'employee_lookup.csv'))"
   ]
  },
  {
   "cell_type": "markdown",
   "id": "db5a5878",
   "metadata": {},
   "source": [
    "#close and halt\n",
    "major checkpoint\n",
    "when reopen\n",
    "-import payroll_fullnamedate.csv\n",
    "-import employee_lookup.csv\n",
    "use merge function to add employee identifier to original data set\n",
    "example: pd.merge(restaurant_ids_dataframe, restaurant_review_frame, on='business_id', how='outer')\n",
    "\n",
    "Note:  Merge function did not work as expected, must try again."
   ]
  },
  {
   "cell_type": "code",
   "execution_count": 4,
   "id": "79dec112",
   "metadata": {},
   "outputs": [],
   "source": [
    "df_full=pd.read_csv(os.path.join(preparedDataPath,'payroll_fullnamedate.csv'))\n",
    "df_employeelookup=pd.read_csv(os.path.join(preparedDataPath,'employee_lookup.csv'))"
   ]
  },
  {
   "cell_type": "code",
   "execution_count": 5,
   "id": "b2c69268",
   "metadata": {},
   "outputs": [
    {
     "data": {
      "text/html": [
       "<div>\n",
       "<style scoped>\n",
       "    .dataframe tbody tr th:only-of-type {\n",
       "        vertical-align: middle;\n",
       "    }\n",
       "\n",
       "    .dataframe tbody tr th {\n",
       "        vertical-align: top;\n",
       "    }\n",
       "\n",
       "    .dataframe thead th {\n",
       "        text-align: right;\n",
       "    }\n",
       "</style>\n",
       "<table border=\"1\" class=\"dataframe\">\n",
       "  <thead>\n",
       "    <tr style=\"text-align: right;\">\n",
       "      <th></th>\n",
       "      <th>Unnamed: 0</th>\n",
       "      <th>Fiscal Year</th>\n",
       "      <th>Payroll Number</th>\n",
       "      <th>Agency Name</th>\n",
       "      <th>Last Name</th>\n",
       "      <th>First Name</th>\n",
       "      <th>Mid Init</th>\n",
       "      <th>Agency Start Date</th>\n",
       "      <th>Work Location Borough</th>\n",
       "      <th>Title Description</th>\n",
       "      <th>Leave Status as of June 30</th>\n",
       "      <th>Base Salary</th>\n",
       "      <th>Pay Basis</th>\n",
       "      <th>Regular Hours</th>\n",
       "      <th>Regular Gross Paid</th>\n",
       "      <th>OT Hours</th>\n",
       "      <th>Total OT Paid</th>\n",
       "      <th>Total Other Pay</th>\n",
       "      <th>fullname_date</th>\n",
       "    </tr>\n",
       "  </thead>\n",
       "  <tbody>\n",
       "    <tr>\n",
       "      <th>0</th>\n",
       "      <td>0</td>\n",
       "      <td>2020</td>\n",
       "      <td>17.0</td>\n",
       "      <td>OFFICE OF EMERGENCY MANAGEMENT</td>\n",
       "      <td>BEREZIN</td>\n",
       "      <td>MIKHAIL</td>\n",
       "      <td>%</td>\n",
       "      <td>08/10/2015</td>\n",
       "      <td>BROOKLYN</td>\n",
       "      <td>EMERGENCY PREPAREDNESS MANAGER</td>\n",
       "      <td>ACTIVE</td>\n",
       "      <td>86005.0</td>\n",
       "      <td>per Annum</td>\n",
       "      <td>1820.0</td>\n",
       "      <td>84698.21</td>\n",
       "      <td>0.0</td>\n",
       "      <td>0.0</td>\n",
       "      <td>0.0</td>\n",
       "      <td>MIKHAIL%BEREZIN08/10/2015</td>\n",
       "    </tr>\n",
       "    <tr>\n",
       "      <th>1</th>\n",
       "      <td>1</td>\n",
       "      <td>2020</td>\n",
       "      <td>17.0</td>\n",
       "      <td>OFFICE OF EMERGENCY MANAGEMENT</td>\n",
       "      <td>GEAGER</td>\n",
       "      <td>VERONICA</td>\n",
       "      <td>M</td>\n",
       "      <td>09/12/2016</td>\n",
       "      <td>BROOKLYN</td>\n",
       "      <td>EMERGENCY PREPAREDNESS MANAGER</td>\n",
       "      <td>ACTIVE</td>\n",
       "      <td>86005.0</td>\n",
       "      <td>per Annum</td>\n",
       "      <td>1820.0</td>\n",
       "      <td>84698.21</td>\n",
       "      <td>0.0</td>\n",
       "      <td>0.0</td>\n",
       "      <td>0.0</td>\n",
       "      <td>VERONICAMGEAGER09/12/2016</td>\n",
       "    </tr>\n",
       "    <tr>\n",
       "      <th>2</th>\n",
       "      <td>2</td>\n",
       "      <td>2020</td>\n",
       "      <td>17.0</td>\n",
       "      <td>OFFICE OF EMERGENCY MANAGEMENT</td>\n",
       "      <td>RAMANI</td>\n",
       "      <td>SHRADDHA</td>\n",
       "      <td>%</td>\n",
       "      <td>02/22/2016</td>\n",
       "      <td>BROOKLYN</td>\n",
       "      <td>EMERGENCY PREPAREDNESS MANAGER</td>\n",
       "      <td>ACTIVE</td>\n",
       "      <td>86005.0</td>\n",
       "      <td>per Annum</td>\n",
       "      <td>1820.0</td>\n",
       "      <td>84698.21</td>\n",
       "      <td>0.0</td>\n",
       "      <td>0.0</td>\n",
       "      <td>0.0</td>\n",
       "      <td>SHRADDHA%RAMANI02/22/2016</td>\n",
       "    </tr>\n",
       "    <tr>\n",
       "      <th>3</th>\n",
       "      <td>3</td>\n",
       "      <td>2020</td>\n",
       "      <td>17.0</td>\n",
       "      <td>OFFICE OF EMERGENCY MANAGEMENT</td>\n",
       "      <td>ROTTA</td>\n",
       "      <td>JONATHAN</td>\n",
       "      <td>D</td>\n",
       "      <td>09/16/2013</td>\n",
       "      <td>BROOKLYN</td>\n",
       "      <td>EMERGENCY PREPAREDNESS MANAGER</td>\n",
       "      <td>ACTIVE</td>\n",
       "      <td>86005.0</td>\n",
       "      <td>per Annum</td>\n",
       "      <td>1820.0</td>\n",
       "      <td>84698.21</td>\n",
       "      <td>0.0</td>\n",
       "      <td>0.0</td>\n",
       "      <td>0.0</td>\n",
       "      <td>JONATHANDROTTA09/16/2013</td>\n",
       "    </tr>\n",
       "    <tr>\n",
       "      <th>4</th>\n",
       "      <td>4</td>\n",
       "      <td>2020</td>\n",
       "      <td>17.0</td>\n",
       "      <td>OFFICE OF EMERGENCY MANAGEMENT</td>\n",
       "      <td>WILSON II</td>\n",
       "      <td>ROBERT</td>\n",
       "      <td>P</td>\n",
       "      <td>04/30/2018</td>\n",
       "      <td>BROOKLYN</td>\n",
       "      <td>EMERGENCY PREPAREDNESS MANAGER</td>\n",
       "      <td>ACTIVE</td>\n",
       "      <td>86005.0</td>\n",
       "      <td>per Annum</td>\n",
       "      <td>1820.0</td>\n",
       "      <td>84698.21</td>\n",
       "      <td>0.0</td>\n",
       "      <td>0.0</td>\n",
       "      <td>0.0</td>\n",
       "      <td>ROBERTPWILSON II04/30/2018</td>\n",
       "    </tr>\n",
       "  </tbody>\n",
       "</table>\n",
       "</div>"
      ],
      "text/plain": [
       "   Unnamed: 0  Fiscal Year  Payroll Number                     Agency Name  \\\n",
       "0           0         2020            17.0  OFFICE OF EMERGENCY MANAGEMENT   \n",
       "1           1         2020            17.0  OFFICE OF EMERGENCY MANAGEMENT   \n",
       "2           2         2020            17.0  OFFICE OF EMERGENCY MANAGEMENT   \n",
       "3           3         2020            17.0  OFFICE OF EMERGENCY MANAGEMENT   \n",
       "4           4         2020            17.0  OFFICE OF EMERGENCY MANAGEMENT   \n",
       "\n",
       "   Last Name First Name Mid Init Agency Start Date Work Location Borough  \\\n",
       "0    BEREZIN    MIKHAIL        %        08/10/2015              BROOKLYN   \n",
       "1     GEAGER   VERONICA        M        09/12/2016              BROOKLYN   \n",
       "2     RAMANI   SHRADDHA        %        02/22/2016              BROOKLYN   \n",
       "3      ROTTA   JONATHAN        D        09/16/2013              BROOKLYN   \n",
       "4  WILSON II     ROBERT        P        04/30/2018              BROOKLYN   \n",
       "\n",
       "                Title Description Leave Status as of June 30  Base Salary  \\\n",
       "0  EMERGENCY PREPAREDNESS MANAGER                     ACTIVE      86005.0   \n",
       "1  EMERGENCY PREPAREDNESS MANAGER                     ACTIVE      86005.0   \n",
       "2  EMERGENCY PREPAREDNESS MANAGER                     ACTIVE      86005.0   \n",
       "3  EMERGENCY PREPAREDNESS MANAGER                     ACTIVE      86005.0   \n",
       "4  EMERGENCY PREPAREDNESS MANAGER                     ACTIVE      86005.0   \n",
       "\n",
       "   Pay Basis  Regular Hours  Regular Gross Paid  OT Hours  Total OT Paid  \\\n",
       "0  per Annum         1820.0            84698.21       0.0            0.0   \n",
       "1  per Annum         1820.0            84698.21       0.0            0.0   \n",
       "2  per Annum         1820.0            84698.21       0.0            0.0   \n",
       "3  per Annum         1820.0            84698.21       0.0            0.0   \n",
       "4  per Annum         1820.0            84698.21       0.0            0.0   \n",
       "\n",
       "   Total Other Pay               fullname_date  \n",
       "0              0.0   MIKHAIL%BEREZIN08/10/2015  \n",
       "1              0.0   VERONICAMGEAGER09/12/2016  \n",
       "2              0.0   SHRADDHA%RAMANI02/22/2016  \n",
       "3              0.0    JONATHANDROTTA09/16/2013  \n",
       "4              0.0  ROBERTPWILSON II04/30/2018  "
      ]
     },
     "execution_count": 5,
     "metadata": {},
     "output_type": "execute_result"
    }
   ],
   "source": [
    "df_full.head()"
   ]
  },
  {
   "cell_type": "code",
   "execution_count": 7,
   "id": "d71731ce",
   "metadata": {},
   "outputs": [
    {
     "data": {
      "text/plain": [
       "(4915337, 19)"
      ]
     },
     "execution_count": 7,
     "metadata": {},
     "output_type": "execute_result"
    }
   ],
   "source": [
    "df_full.shape"
   ]
  },
  {
   "cell_type": "code",
   "execution_count": 8,
   "id": "78e8069a",
   "metadata": {},
   "outputs": [
    {
     "data": {
      "text/html": [
       "<div>\n",
       "<style scoped>\n",
       "    .dataframe tbody tr th:only-of-type {\n",
       "        vertical-align: middle;\n",
       "    }\n",
       "\n",
       "    .dataframe tbody tr th {\n",
       "        vertical-align: top;\n",
       "    }\n",
       "\n",
       "    .dataframe thead th {\n",
       "        text-align: right;\n",
       "    }\n",
       "</style>\n",
       "<table border=\"1\" class=\"dataframe\">\n",
       "  <thead>\n",
       "    <tr style=\"text-align: right;\">\n",
       "      <th></th>\n",
       "      <th>Unnamed: 0</th>\n",
       "      <th>fullname_date</th>\n",
       "      <th>unique_id</th>\n",
       "    </tr>\n",
       "  </thead>\n",
       "  <tbody>\n",
       "    <tr>\n",
       "      <th>0</th>\n",
       "      <td>0</td>\n",
       "      <td>MIKHAIL%BEREZIN08/10/2015</td>\n",
       "      <td>emgiazxy</td>\n",
       "    </tr>\n",
       "    <tr>\n",
       "      <th>1</th>\n",
       "      <td>1</td>\n",
       "      <td>VERONICAMGEAGER09/12/2016</td>\n",
       "      <td>qcekinkp</td>\n",
       "    </tr>\n",
       "    <tr>\n",
       "      <th>2</th>\n",
       "      <td>2</td>\n",
       "      <td>SHRADDHA%RAMANI02/22/2016</td>\n",
       "      <td>vihcvktl</td>\n",
       "    </tr>\n",
       "    <tr>\n",
       "      <th>3</th>\n",
       "      <td>3</td>\n",
       "      <td>JONATHANDROTTA09/16/2013</td>\n",
       "      <td>ototwwxb</td>\n",
       "    </tr>\n",
       "    <tr>\n",
       "      <th>4</th>\n",
       "      <td>4</td>\n",
       "      <td>ROBERTPWILSON II04/30/2018</td>\n",
       "      <td>oskpiihm</td>\n",
       "    </tr>\n",
       "  </tbody>\n",
       "</table>\n",
       "</div>"
      ],
      "text/plain": [
       "   Unnamed: 0               fullname_date unique_id\n",
       "0           0   MIKHAIL%BEREZIN08/10/2015  emgiazxy\n",
       "1           1   VERONICAMGEAGER09/12/2016  qcekinkp\n",
       "2           2   SHRADDHA%RAMANI02/22/2016  vihcvktl\n",
       "3           3    JONATHANDROTTA09/16/2013  ototwwxb\n",
       "4           4  ROBERTPWILSON II04/30/2018  oskpiihm"
      ]
     },
     "execution_count": 8,
     "metadata": {},
     "output_type": "execute_result"
    }
   ],
   "source": [
    "df_employeelookup.head()"
   ]
  },
  {
   "cell_type": "code",
   "execution_count": 9,
   "id": "9e32aa65",
   "metadata": {},
   "outputs": [
    {
     "data": {
      "text/plain": [
       "(969930, 3)"
      ]
     },
     "execution_count": 9,
     "metadata": {},
     "output_type": "execute_result"
    }
   ],
   "source": [
    "df_employeelookup.shape"
   ]
  },
  {
   "cell_type": "code",
   "execution_count": 12,
   "id": "5e66cb01",
   "metadata": {},
   "outputs": [],
   "source": [
    "df_merge= pd.merge(df_full, df_employeelookup, on='fullname_date', how='left')"
   ]
  },
  {
   "cell_type": "code",
   "execution_count": 13,
   "id": "20fe7582",
   "metadata": {},
   "outputs": [
    {
     "data": {
      "text/html": [
       "<div>\n",
       "<style scoped>\n",
       "    .dataframe tbody tr th:only-of-type {\n",
       "        vertical-align: middle;\n",
       "    }\n",
       "\n",
       "    .dataframe tbody tr th {\n",
       "        vertical-align: top;\n",
       "    }\n",
       "\n",
       "    .dataframe thead th {\n",
       "        text-align: right;\n",
       "    }\n",
       "</style>\n",
       "<table border=\"1\" class=\"dataframe\">\n",
       "  <thead>\n",
       "    <tr style=\"text-align: right;\">\n",
       "      <th></th>\n",
       "      <th>Unnamed: 0_x</th>\n",
       "      <th>Fiscal Year</th>\n",
       "      <th>Payroll Number</th>\n",
       "      <th>Agency Name</th>\n",
       "      <th>Last Name</th>\n",
       "      <th>First Name</th>\n",
       "      <th>Mid Init</th>\n",
       "      <th>Agency Start Date</th>\n",
       "      <th>Work Location Borough</th>\n",
       "      <th>Title Description</th>\n",
       "      <th>...</th>\n",
       "      <th>Base Salary</th>\n",
       "      <th>Pay Basis</th>\n",
       "      <th>Regular Hours</th>\n",
       "      <th>Regular Gross Paid</th>\n",
       "      <th>OT Hours</th>\n",
       "      <th>Total OT Paid</th>\n",
       "      <th>Total Other Pay</th>\n",
       "      <th>fullname_date</th>\n",
       "      <th>Unnamed: 0_y</th>\n",
       "      <th>unique_id</th>\n",
       "    </tr>\n",
       "  </thead>\n",
       "  <tbody>\n",
       "    <tr>\n",
       "      <th>0</th>\n",
       "      <td>0</td>\n",
       "      <td>2020</td>\n",
       "      <td>17.0</td>\n",
       "      <td>OFFICE OF EMERGENCY MANAGEMENT</td>\n",
       "      <td>BEREZIN</td>\n",
       "      <td>MIKHAIL</td>\n",
       "      <td>%</td>\n",
       "      <td>08/10/2015</td>\n",
       "      <td>BROOKLYN</td>\n",
       "      <td>EMERGENCY PREPAREDNESS MANAGER</td>\n",
       "      <td>...</td>\n",
       "      <td>86005.0</td>\n",
       "      <td>per Annum</td>\n",
       "      <td>1820.0</td>\n",
       "      <td>84698.21</td>\n",
       "      <td>0.0</td>\n",
       "      <td>0.0</td>\n",
       "      <td>0.0</td>\n",
       "      <td>MIKHAIL%BEREZIN08/10/2015</td>\n",
       "      <td>0</td>\n",
       "      <td>emgiazxy</td>\n",
       "    </tr>\n",
       "    <tr>\n",
       "      <th>1</th>\n",
       "      <td>1</td>\n",
       "      <td>2020</td>\n",
       "      <td>17.0</td>\n",
       "      <td>OFFICE OF EMERGENCY MANAGEMENT</td>\n",
       "      <td>GEAGER</td>\n",
       "      <td>VERONICA</td>\n",
       "      <td>M</td>\n",
       "      <td>09/12/2016</td>\n",
       "      <td>BROOKLYN</td>\n",
       "      <td>EMERGENCY PREPAREDNESS MANAGER</td>\n",
       "      <td>...</td>\n",
       "      <td>86005.0</td>\n",
       "      <td>per Annum</td>\n",
       "      <td>1820.0</td>\n",
       "      <td>84698.21</td>\n",
       "      <td>0.0</td>\n",
       "      <td>0.0</td>\n",
       "      <td>0.0</td>\n",
       "      <td>VERONICAMGEAGER09/12/2016</td>\n",
       "      <td>1</td>\n",
       "      <td>qcekinkp</td>\n",
       "    </tr>\n",
       "    <tr>\n",
       "      <th>2</th>\n",
       "      <td>2</td>\n",
       "      <td>2020</td>\n",
       "      <td>17.0</td>\n",
       "      <td>OFFICE OF EMERGENCY MANAGEMENT</td>\n",
       "      <td>RAMANI</td>\n",
       "      <td>SHRADDHA</td>\n",
       "      <td>%</td>\n",
       "      <td>02/22/2016</td>\n",
       "      <td>BROOKLYN</td>\n",
       "      <td>EMERGENCY PREPAREDNESS MANAGER</td>\n",
       "      <td>...</td>\n",
       "      <td>86005.0</td>\n",
       "      <td>per Annum</td>\n",
       "      <td>1820.0</td>\n",
       "      <td>84698.21</td>\n",
       "      <td>0.0</td>\n",
       "      <td>0.0</td>\n",
       "      <td>0.0</td>\n",
       "      <td>SHRADDHA%RAMANI02/22/2016</td>\n",
       "      <td>2</td>\n",
       "      <td>vihcvktl</td>\n",
       "    </tr>\n",
       "    <tr>\n",
       "      <th>3</th>\n",
       "      <td>3</td>\n",
       "      <td>2020</td>\n",
       "      <td>17.0</td>\n",
       "      <td>OFFICE OF EMERGENCY MANAGEMENT</td>\n",
       "      <td>ROTTA</td>\n",
       "      <td>JONATHAN</td>\n",
       "      <td>D</td>\n",
       "      <td>09/16/2013</td>\n",
       "      <td>BROOKLYN</td>\n",
       "      <td>EMERGENCY PREPAREDNESS MANAGER</td>\n",
       "      <td>...</td>\n",
       "      <td>86005.0</td>\n",
       "      <td>per Annum</td>\n",
       "      <td>1820.0</td>\n",
       "      <td>84698.21</td>\n",
       "      <td>0.0</td>\n",
       "      <td>0.0</td>\n",
       "      <td>0.0</td>\n",
       "      <td>JONATHANDROTTA09/16/2013</td>\n",
       "      <td>3</td>\n",
       "      <td>ototwwxb</td>\n",
       "    </tr>\n",
       "    <tr>\n",
       "      <th>4</th>\n",
       "      <td>4</td>\n",
       "      <td>2020</td>\n",
       "      <td>17.0</td>\n",
       "      <td>OFFICE OF EMERGENCY MANAGEMENT</td>\n",
       "      <td>WILSON II</td>\n",
       "      <td>ROBERT</td>\n",
       "      <td>P</td>\n",
       "      <td>04/30/2018</td>\n",
       "      <td>BROOKLYN</td>\n",
       "      <td>EMERGENCY PREPAREDNESS MANAGER</td>\n",
       "      <td>...</td>\n",
       "      <td>86005.0</td>\n",
       "      <td>per Annum</td>\n",
       "      <td>1820.0</td>\n",
       "      <td>84698.21</td>\n",
       "      <td>0.0</td>\n",
       "      <td>0.0</td>\n",
       "      <td>0.0</td>\n",
       "      <td>ROBERTPWILSON II04/30/2018</td>\n",
       "      <td>4</td>\n",
       "      <td>oskpiihm</td>\n",
       "    </tr>\n",
       "  </tbody>\n",
       "</table>\n",
       "<p>5 rows × 21 columns</p>\n",
       "</div>"
      ],
      "text/plain": [
       "   Unnamed: 0_x  Fiscal Year  Payroll Number                     Agency Name  \\\n",
       "0             0         2020            17.0  OFFICE OF EMERGENCY MANAGEMENT   \n",
       "1             1         2020            17.0  OFFICE OF EMERGENCY MANAGEMENT   \n",
       "2             2         2020            17.0  OFFICE OF EMERGENCY MANAGEMENT   \n",
       "3             3         2020            17.0  OFFICE OF EMERGENCY MANAGEMENT   \n",
       "4             4         2020            17.0  OFFICE OF EMERGENCY MANAGEMENT   \n",
       "\n",
       "   Last Name First Name Mid Init Agency Start Date Work Location Borough  \\\n",
       "0    BEREZIN    MIKHAIL        %        08/10/2015              BROOKLYN   \n",
       "1     GEAGER   VERONICA        M        09/12/2016              BROOKLYN   \n",
       "2     RAMANI   SHRADDHA        %        02/22/2016              BROOKLYN   \n",
       "3      ROTTA   JONATHAN        D        09/16/2013              BROOKLYN   \n",
       "4  WILSON II     ROBERT        P        04/30/2018              BROOKLYN   \n",
       "\n",
       "                Title Description  ... Base Salary  Pay Basis Regular Hours  \\\n",
       "0  EMERGENCY PREPAREDNESS MANAGER  ...     86005.0  per Annum        1820.0   \n",
       "1  EMERGENCY PREPAREDNESS MANAGER  ...     86005.0  per Annum        1820.0   \n",
       "2  EMERGENCY PREPAREDNESS MANAGER  ...     86005.0  per Annum        1820.0   \n",
       "3  EMERGENCY PREPAREDNESS MANAGER  ...     86005.0  per Annum        1820.0   \n",
       "4  EMERGENCY PREPAREDNESS MANAGER  ...     86005.0  per Annum        1820.0   \n",
       "\n",
       "   Regular Gross Paid  OT Hours  Total OT Paid  Total Other Pay  \\\n",
       "0            84698.21       0.0            0.0              0.0   \n",
       "1            84698.21       0.0            0.0              0.0   \n",
       "2            84698.21       0.0            0.0              0.0   \n",
       "3            84698.21       0.0            0.0              0.0   \n",
       "4            84698.21       0.0            0.0              0.0   \n",
       "\n",
       "                fullname_date Unnamed: 0_y  unique_id  \n",
       "0   MIKHAIL%BEREZIN08/10/2015            0   emgiazxy  \n",
       "1   VERONICAMGEAGER09/12/2016            1   qcekinkp  \n",
       "2   SHRADDHA%RAMANI02/22/2016            2   vihcvktl  \n",
       "3    JONATHANDROTTA09/16/2013            3   ototwwxb  \n",
       "4  ROBERTPWILSON II04/30/2018            4   oskpiihm  \n",
       "\n",
       "[5 rows x 21 columns]"
      ]
     },
     "execution_count": 13,
     "metadata": {},
     "output_type": "execute_result"
    }
   ],
   "source": [
    "df_merge.head()"
   ]
  },
  {
   "cell_type": "code",
   "execution_count": 14,
   "id": "ac55ca94",
   "metadata": {},
   "outputs": [],
   "source": [
    "#export to csv\n",
    "df_merge.to_csv(os.path.join(preparedDataPath, 'payroll_full_uniqueid.csv'))"
   ]
  },
  {
   "cell_type": "code",
   "execution_count": 5,
   "id": "195e5f05",
   "metadata": {},
   "outputs": [],
   "source": [
    "#create dataframe with dataset from good title data, cut extra index columns\n",
    "goodcols=[\"Fiscal Year\",\"Payroll Number\",\"Agency Name\",\"Last Name\",\"First Name\",\"Mid Init\",\"Agency Start Date\",\"Work Location Borough\",\"Title Description\",\"Leave Status as of June 30\",\"Base Salary\",\"Pay Basis\",\"Regular Hours\",\"Regular Gross Paid\",\"OT Hours\",\"Total OT Paid\",\"Total Other Pay\",\"unique_id\"]\n",
    "df=pd.read_csv(os.path.join(preparedDataPath,'payroll_full_uniqueid.csv'),usecols=goodcols)"
   ]
  },
  {
   "cell_type": "code",
   "execution_count": 6,
   "id": "639b751b",
   "metadata": {},
   "outputs": [
    {
     "data": {
      "text/html": [
       "<div>\n",
       "<style scoped>\n",
       "    .dataframe tbody tr th:only-of-type {\n",
       "        vertical-align: middle;\n",
       "    }\n",
       "\n",
       "    .dataframe tbody tr th {\n",
       "        vertical-align: top;\n",
       "    }\n",
       "\n",
       "    .dataframe thead th {\n",
       "        text-align: right;\n",
       "    }\n",
       "</style>\n",
       "<table border=\"1\" class=\"dataframe\">\n",
       "  <thead>\n",
       "    <tr style=\"text-align: right;\">\n",
       "      <th></th>\n",
       "      <th>Fiscal Year</th>\n",
       "      <th>Payroll Number</th>\n",
       "      <th>Agency Name</th>\n",
       "      <th>Last Name</th>\n",
       "      <th>First Name</th>\n",
       "      <th>Mid Init</th>\n",
       "      <th>Agency Start Date</th>\n",
       "      <th>Work Location Borough</th>\n",
       "      <th>Title Description</th>\n",
       "      <th>Leave Status as of June 30</th>\n",
       "      <th>Base Salary</th>\n",
       "      <th>Pay Basis</th>\n",
       "      <th>Regular Hours</th>\n",
       "      <th>Regular Gross Paid</th>\n",
       "      <th>OT Hours</th>\n",
       "      <th>Total OT Paid</th>\n",
       "      <th>Total Other Pay</th>\n",
       "      <th>unique_id</th>\n",
       "    </tr>\n",
       "  </thead>\n",
       "  <tbody>\n",
       "    <tr>\n",
       "      <th>0</th>\n",
       "      <td>2020</td>\n",
       "      <td>17.0</td>\n",
       "      <td>OFFICE OF EMERGENCY MANAGEMENT</td>\n",
       "      <td>BEREZIN</td>\n",
       "      <td>MIKHAIL</td>\n",
       "      <td>%</td>\n",
       "      <td>08/10/2015</td>\n",
       "      <td>BROOKLYN</td>\n",
       "      <td>EMERGENCY PREPAREDNESS MANAGER</td>\n",
       "      <td>ACTIVE</td>\n",
       "      <td>86005.0</td>\n",
       "      <td>per Annum</td>\n",
       "      <td>1820.0</td>\n",
       "      <td>84698.21</td>\n",
       "      <td>0.0</td>\n",
       "      <td>0.0</td>\n",
       "      <td>0.0</td>\n",
       "      <td>emgiazxy</td>\n",
       "    </tr>\n",
       "    <tr>\n",
       "      <th>1</th>\n",
       "      <td>2020</td>\n",
       "      <td>17.0</td>\n",
       "      <td>OFFICE OF EMERGENCY MANAGEMENT</td>\n",
       "      <td>GEAGER</td>\n",
       "      <td>VERONICA</td>\n",
       "      <td>M</td>\n",
       "      <td>09/12/2016</td>\n",
       "      <td>BROOKLYN</td>\n",
       "      <td>EMERGENCY PREPAREDNESS MANAGER</td>\n",
       "      <td>ACTIVE</td>\n",
       "      <td>86005.0</td>\n",
       "      <td>per Annum</td>\n",
       "      <td>1820.0</td>\n",
       "      <td>84698.21</td>\n",
       "      <td>0.0</td>\n",
       "      <td>0.0</td>\n",
       "      <td>0.0</td>\n",
       "      <td>qcekinkp</td>\n",
       "    </tr>\n",
       "    <tr>\n",
       "      <th>2</th>\n",
       "      <td>2020</td>\n",
       "      <td>17.0</td>\n",
       "      <td>OFFICE OF EMERGENCY MANAGEMENT</td>\n",
       "      <td>RAMANI</td>\n",
       "      <td>SHRADDHA</td>\n",
       "      <td>%</td>\n",
       "      <td>02/22/2016</td>\n",
       "      <td>BROOKLYN</td>\n",
       "      <td>EMERGENCY PREPAREDNESS MANAGER</td>\n",
       "      <td>ACTIVE</td>\n",
       "      <td>86005.0</td>\n",
       "      <td>per Annum</td>\n",
       "      <td>1820.0</td>\n",
       "      <td>84698.21</td>\n",
       "      <td>0.0</td>\n",
       "      <td>0.0</td>\n",
       "      <td>0.0</td>\n",
       "      <td>vihcvktl</td>\n",
       "    </tr>\n",
       "    <tr>\n",
       "      <th>3</th>\n",
       "      <td>2020</td>\n",
       "      <td>17.0</td>\n",
       "      <td>OFFICE OF EMERGENCY MANAGEMENT</td>\n",
       "      <td>ROTTA</td>\n",
       "      <td>JONATHAN</td>\n",
       "      <td>D</td>\n",
       "      <td>09/16/2013</td>\n",
       "      <td>BROOKLYN</td>\n",
       "      <td>EMERGENCY PREPAREDNESS MANAGER</td>\n",
       "      <td>ACTIVE</td>\n",
       "      <td>86005.0</td>\n",
       "      <td>per Annum</td>\n",
       "      <td>1820.0</td>\n",
       "      <td>84698.21</td>\n",
       "      <td>0.0</td>\n",
       "      <td>0.0</td>\n",
       "      <td>0.0</td>\n",
       "      <td>ototwwxb</td>\n",
       "    </tr>\n",
       "    <tr>\n",
       "      <th>4</th>\n",
       "      <td>2020</td>\n",
       "      <td>17.0</td>\n",
       "      <td>OFFICE OF EMERGENCY MANAGEMENT</td>\n",
       "      <td>WILSON II</td>\n",
       "      <td>ROBERT</td>\n",
       "      <td>P</td>\n",
       "      <td>04/30/2018</td>\n",
       "      <td>BROOKLYN</td>\n",
       "      <td>EMERGENCY PREPAREDNESS MANAGER</td>\n",
       "      <td>ACTIVE</td>\n",
       "      <td>86005.0</td>\n",
       "      <td>per Annum</td>\n",
       "      <td>1820.0</td>\n",
       "      <td>84698.21</td>\n",
       "      <td>0.0</td>\n",
       "      <td>0.0</td>\n",
       "      <td>0.0</td>\n",
       "      <td>oskpiihm</td>\n",
       "    </tr>\n",
       "  </tbody>\n",
       "</table>\n",
       "</div>"
      ],
      "text/plain": [
       "   Fiscal Year  Payroll Number                     Agency Name  Last Name  \\\n",
       "0         2020            17.0  OFFICE OF EMERGENCY MANAGEMENT    BEREZIN   \n",
       "1         2020            17.0  OFFICE OF EMERGENCY MANAGEMENT     GEAGER   \n",
       "2         2020            17.0  OFFICE OF EMERGENCY MANAGEMENT     RAMANI   \n",
       "3         2020            17.0  OFFICE OF EMERGENCY MANAGEMENT      ROTTA   \n",
       "4         2020            17.0  OFFICE OF EMERGENCY MANAGEMENT  WILSON II   \n",
       "\n",
       "  First Name Mid Init Agency Start Date Work Location Borough  \\\n",
       "0    MIKHAIL        %        08/10/2015              BROOKLYN   \n",
       "1   VERONICA        M        09/12/2016              BROOKLYN   \n",
       "2   SHRADDHA        %        02/22/2016              BROOKLYN   \n",
       "3   JONATHAN        D        09/16/2013              BROOKLYN   \n",
       "4     ROBERT        P        04/30/2018              BROOKLYN   \n",
       "\n",
       "                Title Description Leave Status as of June 30  Base Salary  \\\n",
       "0  EMERGENCY PREPAREDNESS MANAGER                     ACTIVE      86005.0   \n",
       "1  EMERGENCY PREPAREDNESS MANAGER                     ACTIVE      86005.0   \n",
       "2  EMERGENCY PREPAREDNESS MANAGER                     ACTIVE      86005.0   \n",
       "3  EMERGENCY PREPAREDNESS MANAGER                     ACTIVE      86005.0   \n",
       "4  EMERGENCY PREPAREDNESS MANAGER                     ACTIVE      86005.0   \n",
       "\n",
       "   Pay Basis  Regular Hours  Regular Gross Paid  OT Hours  Total OT Paid  \\\n",
       "0  per Annum         1820.0            84698.21       0.0            0.0   \n",
       "1  per Annum         1820.0            84698.21       0.0            0.0   \n",
       "2  per Annum         1820.0            84698.21       0.0            0.0   \n",
       "3  per Annum         1820.0            84698.21       0.0            0.0   \n",
       "4  per Annum         1820.0            84698.21       0.0            0.0   \n",
       "\n",
       "   Total Other Pay unique_id  \n",
       "0              0.0  emgiazxy  \n",
       "1              0.0  qcekinkp  \n",
       "2              0.0  vihcvktl  \n",
       "3              0.0  ototwwxb  \n",
       "4              0.0  oskpiihm  "
      ]
     },
     "execution_count": 6,
     "metadata": {},
     "output_type": "execute_result"
    }
   ],
   "source": [
    "df.head()"
   ]
  },
  {
   "cell_type": "code",
   "execution_count": 7,
   "id": "8072f84e",
   "metadata": {},
   "outputs": [
    {
     "data": {
      "text/plain": [
       "(4915337, 18)"
      ]
     },
     "execution_count": 7,
     "metadata": {},
     "output_type": "execute_result"
    }
   ],
   "source": [
    "df.shape"
   ]
  },
  {
   "cell_type": "code",
   "execution_count": 8,
   "id": "e495275d",
   "metadata": {},
   "outputs": [
    {
     "name": "stdout",
     "output_type": "stream",
     "text": [
      "<class 'pandas.core.frame.DataFrame'>\n",
      "RangeIndex: 4915337 entries, 0 to 4915336\n",
      "Data columns (total 18 columns):\n",
      " #   Column                      Dtype  \n",
      "---  ------                      -----  \n",
      " 0   Fiscal Year                 int64  \n",
      " 1   Payroll Number              float64\n",
      " 2   Agency Name                 object \n",
      " 3   Last Name                   object \n",
      " 4   First Name                  object \n",
      " 5   Mid Init                    object \n",
      " 6   Agency Start Date           object \n",
      " 7   Work Location Borough       object \n",
      " 8   Title Description           object \n",
      " 9   Leave Status as of June 30  object \n",
      " 10  Base Salary                 float64\n",
      " 11  Pay Basis                   object \n",
      " 12  Regular Hours               float64\n",
      " 13  Regular Gross Paid          float64\n",
      " 14  OT Hours                    float64\n",
      " 15  Total OT Paid               float64\n",
      " 16  Total Other Pay             float64\n",
      " 17  unique_id                   object \n",
      "dtypes: float64(7), int64(1), object(10)\n",
      "memory usage: 675.0+ MB\n"
     ]
    }
   ],
   "source": [
    "df.info()"
   ]
  },
  {
   "cell_type": "code",
   "execution_count": 9,
   "id": "1c383a08",
   "metadata": {},
   "outputs": [
    {
     "data": {
      "text/html": [
       "<div>\n",
       "<style scoped>\n",
       "    .dataframe tbody tr th:only-of-type {\n",
       "        vertical-align: middle;\n",
       "    }\n",
       "\n",
       "    .dataframe tbody tr th {\n",
       "        vertical-align: top;\n",
       "    }\n",
       "\n",
       "    .dataframe thead th {\n",
       "        text-align: right;\n",
       "    }\n",
       "</style>\n",
       "<table border=\"1\" class=\"dataframe\">\n",
       "  <thead>\n",
       "    <tr style=\"text-align: right;\">\n",
       "      <th></th>\n",
       "      <th>Fiscal Year</th>\n",
       "      <th>Payroll Number</th>\n",
       "      <th>Base Salary</th>\n",
       "      <th>Regular Hours</th>\n",
       "      <th>Regular Gross Paid</th>\n",
       "      <th>OT Hours</th>\n",
       "      <th>Total OT Paid</th>\n",
       "      <th>Total Other Pay</th>\n",
       "    </tr>\n",
       "  </thead>\n",
       "  <tbody>\n",
       "    <tr>\n",
       "      <th>count</th>\n",
       "      <td>4.915337e+06</td>\n",
       "      <td>3.234063e+06</td>\n",
       "      <td>4.915337e+06</td>\n",
       "      <td>4.915337e+06</td>\n",
       "      <td>4.915337e+06</td>\n",
       "      <td>4.915337e+06</td>\n",
       "      <td>4.915337e+06</td>\n",
       "      <td>4.915337e+06</td>\n",
       "    </tr>\n",
       "    <tr>\n",
       "      <th>mean</th>\n",
       "      <td>2.018074e+03</td>\n",
       "      <td>5.736013e+02</td>\n",
       "      <td>4.231114e+04</td>\n",
       "      <td>6.705228e+02</td>\n",
       "      <td>4.166508e+04</td>\n",
       "      <td>6.448972e+01</td>\n",
       "      <td>3.409022e+03</td>\n",
       "      <td>2.954736e+03</td>\n",
       "    </tr>\n",
       "    <tr>\n",
       "      <th>std</th>\n",
       "      <td>2.577118e+00</td>\n",
       "      <td>3.008655e+02</td>\n",
       "      <td>4.194309e+04</td>\n",
       "      <td>8.886410e+02</td>\n",
       "      <td>3.953947e+04</td>\n",
       "      <td>1.663559e+02</td>\n",
       "      <td>9.521246e+03</td>\n",
       "      <td>5.727339e+03</td>\n",
       "    </tr>\n",
       "    <tr>\n",
       "      <th>min</th>\n",
       "      <td>2.014000e+03</td>\n",
       "      <td>2.000000e+00</td>\n",
       "      <td>1.000000e-02</td>\n",
       "      <td>0.000000e+00</td>\n",
       "      <td>0.000000e+00</td>\n",
       "      <td>0.000000e+00</td>\n",
       "      <td>0.000000e+00</td>\n",
       "      <td>0.000000e+00</td>\n",
       "    </tr>\n",
       "    <tr>\n",
       "      <th>25%</th>\n",
       "      <td>2.016000e+03</td>\n",
       "      <td>3.000000e+02</td>\n",
       "      <td>3.318000e+01</td>\n",
       "      <td>0.000000e+00</td>\n",
       "      <td>3.131120e+03</td>\n",
       "      <td>0.000000e+00</td>\n",
       "      <td>0.000000e+00</td>\n",
       "      <td>0.000000e+00</td>\n",
       "    </tr>\n",
       "    <tr>\n",
       "      <th>50%</th>\n",
       "      <td>2.018000e+03</td>\n",
       "      <td>7.420000e+02</td>\n",
       "      <td>4.100300e+04</td>\n",
       "      <td>0.000000e+00</td>\n",
       "      <td>3.518840e+04</td>\n",
       "      <td>0.000000e+00</td>\n",
       "      <td>0.000000e+00</td>\n",
       "      <td>4.311000e+01</td>\n",
       "    </tr>\n",
       "    <tr>\n",
       "      <th>75%</th>\n",
       "      <td>2.020000e+03</td>\n",
       "      <td>7.470000e+02</td>\n",
       "      <td>7.656500e+04</td>\n",
       "      <td>1.820000e+03</td>\n",
       "      <td>7.363837e+04</td>\n",
       "      <td>1.500000e+00</td>\n",
       "      <td>1.496900e+02</td>\n",
       "      <td>3.389850e+03</td>\n",
       "    </tr>\n",
       "    <tr>\n",
       "      <th>max</th>\n",
       "      <td>2.022000e+03</td>\n",
       "      <td>9.960000e+02</td>\n",
       "      <td>4.147070e+05</td>\n",
       "      <td>4.171430e+03</td>\n",
       "      <td>6.723089e+05</td>\n",
       "      <td>3.692900e+03</td>\n",
       "      <td>2.559999e+05</td>\n",
       "      <td>6.500000e+05</td>\n",
       "    </tr>\n",
       "  </tbody>\n",
       "</table>\n",
       "</div>"
      ],
      "text/plain": [
       "        Fiscal Year  Payroll Number   Base Salary  Regular Hours  \\\n",
       "count  4.915337e+06    3.234063e+06  4.915337e+06   4.915337e+06   \n",
       "mean   2.018074e+03    5.736013e+02  4.231114e+04   6.705228e+02   \n",
       "std    2.577118e+00    3.008655e+02  4.194309e+04   8.886410e+02   \n",
       "min    2.014000e+03    2.000000e+00  1.000000e-02   0.000000e+00   \n",
       "25%    2.016000e+03    3.000000e+02  3.318000e+01   0.000000e+00   \n",
       "50%    2.018000e+03    7.420000e+02  4.100300e+04   0.000000e+00   \n",
       "75%    2.020000e+03    7.470000e+02  7.656500e+04   1.820000e+03   \n",
       "max    2.022000e+03    9.960000e+02  4.147070e+05   4.171430e+03   \n",
       "\n",
       "       Regular Gross Paid      OT Hours  Total OT Paid  Total Other Pay  \n",
       "count        4.915337e+06  4.915337e+06   4.915337e+06     4.915337e+06  \n",
       "mean         4.166508e+04  6.448972e+01   3.409022e+03     2.954736e+03  \n",
       "std          3.953947e+04  1.663559e+02   9.521246e+03     5.727339e+03  \n",
       "min          0.000000e+00  0.000000e+00   0.000000e+00     0.000000e+00  \n",
       "25%          3.131120e+03  0.000000e+00   0.000000e+00     0.000000e+00  \n",
       "50%          3.518840e+04  0.000000e+00   0.000000e+00     4.311000e+01  \n",
       "75%          7.363837e+04  1.500000e+00   1.496900e+02     3.389850e+03  \n",
       "max          6.723089e+05  3.692900e+03   2.559999e+05     6.500000e+05  "
      ]
     },
     "execution_count": 9,
     "metadata": {},
     "output_type": "execute_result"
    }
   ],
   "source": [
    "df.describe()"
   ]
  },
  {
   "cell_type": "markdown",
   "id": "33240251",
   "metadata": {},
   "source": [
    "#import again and omit employee name variables\n"
   ]
  },
  {
   "cell_type": "code",
   "execution_count": 4,
   "id": "bcdf6441",
   "metadata": {},
   "outputs": [],
   "source": [
    "goodcols=[\"Fiscal Year\",\"Payroll Number\",\"Agency Name\",\"Agency Start Date\",\"Work Location Borough\",\"Title Description\",\"Leave Status as of June 30\",\"Base Salary\",\"Pay Basis\",\"Regular Hours\",\"Regular Gross Paid\",\"OT Hours\",\"Total OT Paid\",\"Total Other Pay\",\"unique_id\"]\n",
    "df=pd.read_csv(os.path.join(preparedDataPath,'payroll_full_uniqueid.csv'),usecols=goodcols)"
   ]
  },
  {
   "cell_type": "code",
   "execution_count": 11,
   "id": "b9f8f307",
   "metadata": {},
   "outputs": [
    {
     "data": {
      "text/html": [
       "<div>\n",
       "<style scoped>\n",
       "    .dataframe tbody tr th:only-of-type {\n",
       "        vertical-align: middle;\n",
       "    }\n",
       "\n",
       "    .dataframe tbody tr th {\n",
       "        vertical-align: top;\n",
       "    }\n",
       "\n",
       "    .dataframe thead th {\n",
       "        text-align: right;\n",
       "    }\n",
       "</style>\n",
       "<table border=\"1\" class=\"dataframe\">\n",
       "  <thead>\n",
       "    <tr style=\"text-align: right;\">\n",
       "      <th></th>\n",
       "      <th>Fiscal Year</th>\n",
       "      <th>Payroll Number</th>\n",
       "      <th>Agency Name</th>\n",
       "      <th>Agency Start Date</th>\n",
       "      <th>Work Location Borough</th>\n",
       "      <th>Title Description</th>\n",
       "      <th>Leave Status as of June 30</th>\n",
       "      <th>Base Salary</th>\n",
       "      <th>Pay Basis</th>\n",
       "      <th>Regular Hours</th>\n",
       "      <th>Regular Gross Paid</th>\n",
       "      <th>OT Hours</th>\n",
       "      <th>Total OT Paid</th>\n",
       "      <th>Total Other Pay</th>\n",
       "      <th>unique_id</th>\n",
       "    </tr>\n",
       "  </thead>\n",
       "  <tbody>\n",
       "    <tr>\n",
       "      <th>0</th>\n",
       "      <td>2020</td>\n",
       "      <td>17.0</td>\n",
       "      <td>OFFICE OF EMERGENCY MANAGEMENT</td>\n",
       "      <td>08/10/2015</td>\n",
       "      <td>BROOKLYN</td>\n",
       "      <td>EMERGENCY PREPAREDNESS MANAGER</td>\n",
       "      <td>ACTIVE</td>\n",
       "      <td>86005.0</td>\n",
       "      <td>per Annum</td>\n",
       "      <td>1820.0</td>\n",
       "      <td>84698.21</td>\n",
       "      <td>0.0</td>\n",
       "      <td>0.0</td>\n",
       "      <td>0.0</td>\n",
       "      <td>emgiazxy</td>\n",
       "    </tr>\n",
       "    <tr>\n",
       "      <th>1</th>\n",
       "      <td>2020</td>\n",
       "      <td>17.0</td>\n",
       "      <td>OFFICE OF EMERGENCY MANAGEMENT</td>\n",
       "      <td>09/12/2016</td>\n",
       "      <td>BROOKLYN</td>\n",
       "      <td>EMERGENCY PREPAREDNESS MANAGER</td>\n",
       "      <td>ACTIVE</td>\n",
       "      <td>86005.0</td>\n",
       "      <td>per Annum</td>\n",
       "      <td>1820.0</td>\n",
       "      <td>84698.21</td>\n",
       "      <td>0.0</td>\n",
       "      <td>0.0</td>\n",
       "      <td>0.0</td>\n",
       "      <td>qcekinkp</td>\n",
       "    </tr>\n",
       "    <tr>\n",
       "      <th>2</th>\n",
       "      <td>2020</td>\n",
       "      <td>17.0</td>\n",
       "      <td>OFFICE OF EMERGENCY MANAGEMENT</td>\n",
       "      <td>02/22/2016</td>\n",
       "      <td>BROOKLYN</td>\n",
       "      <td>EMERGENCY PREPAREDNESS MANAGER</td>\n",
       "      <td>ACTIVE</td>\n",
       "      <td>86005.0</td>\n",
       "      <td>per Annum</td>\n",
       "      <td>1820.0</td>\n",
       "      <td>84698.21</td>\n",
       "      <td>0.0</td>\n",
       "      <td>0.0</td>\n",
       "      <td>0.0</td>\n",
       "      <td>vihcvktl</td>\n",
       "    </tr>\n",
       "    <tr>\n",
       "      <th>3</th>\n",
       "      <td>2020</td>\n",
       "      <td>17.0</td>\n",
       "      <td>OFFICE OF EMERGENCY MANAGEMENT</td>\n",
       "      <td>09/16/2013</td>\n",
       "      <td>BROOKLYN</td>\n",
       "      <td>EMERGENCY PREPAREDNESS MANAGER</td>\n",
       "      <td>ACTIVE</td>\n",
       "      <td>86005.0</td>\n",
       "      <td>per Annum</td>\n",
       "      <td>1820.0</td>\n",
       "      <td>84698.21</td>\n",
       "      <td>0.0</td>\n",
       "      <td>0.0</td>\n",
       "      <td>0.0</td>\n",
       "      <td>ototwwxb</td>\n",
       "    </tr>\n",
       "    <tr>\n",
       "      <th>4</th>\n",
       "      <td>2020</td>\n",
       "      <td>17.0</td>\n",
       "      <td>OFFICE OF EMERGENCY MANAGEMENT</td>\n",
       "      <td>04/30/2018</td>\n",
       "      <td>BROOKLYN</td>\n",
       "      <td>EMERGENCY PREPAREDNESS MANAGER</td>\n",
       "      <td>ACTIVE</td>\n",
       "      <td>86005.0</td>\n",
       "      <td>per Annum</td>\n",
       "      <td>1820.0</td>\n",
       "      <td>84698.21</td>\n",
       "      <td>0.0</td>\n",
       "      <td>0.0</td>\n",
       "      <td>0.0</td>\n",
       "      <td>oskpiihm</td>\n",
       "    </tr>\n",
       "  </tbody>\n",
       "</table>\n",
       "</div>"
      ],
      "text/plain": [
       "   Fiscal Year  Payroll Number                     Agency Name  \\\n",
       "0         2020            17.0  OFFICE OF EMERGENCY MANAGEMENT   \n",
       "1         2020            17.0  OFFICE OF EMERGENCY MANAGEMENT   \n",
       "2         2020            17.0  OFFICE OF EMERGENCY MANAGEMENT   \n",
       "3         2020            17.0  OFFICE OF EMERGENCY MANAGEMENT   \n",
       "4         2020            17.0  OFFICE OF EMERGENCY MANAGEMENT   \n",
       "\n",
       "  Agency Start Date Work Location Borough               Title Description  \\\n",
       "0        08/10/2015              BROOKLYN  EMERGENCY PREPAREDNESS MANAGER   \n",
       "1        09/12/2016              BROOKLYN  EMERGENCY PREPAREDNESS MANAGER   \n",
       "2        02/22/2016              BROOKLYN  EMERGENCY PREPAREDNESS MANAGER   \n",
       "3        09/16/2013              BROOKLYN  EMERGENCY PREPAREDNESS MANAGER   \n",
       "4        04/30/2018              BROOKLYN  EMERGENCY PREPAREDNESS MANAGER   \n",
       "\n",
       "  Leave Status as of June 30  Base Salary  Pay Basis  Regular Hours  \\\n",
       "0                     ACTIVE      86005.0  per Annum         1820.0   \n",
       "1                     ACTIVE      86005.0  per Annum         1820.0   \n",
       "2                     ACTIVE      86005.0  per Annum         1820.0   \n",
       "3                     ACTIVE      86005.0  per Annum         1820.0   \n",
       "4                     ACTIVE      86005.0  per Annum         1820.0   \n",
       "\n",
       "   Regular Gross Paid  OT Hours  Total OT Paid  Total Other Pay unique_id  \n",
       "0            84698.21       0.0            0.0              0.0  emgiazxy  \n",
       "1            84698.21       0.0            0.0              0.0  qcekinkp  \n",
       "2            84698.21       0.0            0.0              0.0  vihcvktl  \n",
       "3            84698.21       0.0            0.0              0.0  ototwwxb  \n",
       "4            84698.21       0.0            0.0              0.0  oskpiihm  "
      ]
     },
     "execution_count": 11,
     "metadata": {},
     "output_type": "execute_result"
    }
   ],
   "source": [
    "df.head()"
   ]
  },
  {
   "cell_type": "code",
   "execution_count": 5,
   "id": "51722dd4",
   "metadata": {},
   "outputs": [],
   "source": [
    "#rename unqiue_id column to employee_id\n",
    "df.rename(columns = {'unique_id' : 'employee_id'}, inplace = True)"
   ]
  },
  {
   "cell_type": "code",
   "execution_count": 6,
   "id": "ab2ba11d",
   "metadata": {},
   "outputs": [
    {
     "data": {
      "text/html": [
       "<div>\n",
       "<style scoped>\n",
       "    .dataframe tbody tr th:only-of-type {\n",
       "        vertical-align: middle;\n",
       "    }\n",
       "\n",
       "    .dataframe tbody tr th {\n",
       "        vertical-align: top;\n",
       "    }\n",
       "\n",
       "    .dataframe thead th {\n",
       "        text-align: right;\n",
       "    }\n",
       "</style>\n",
       "<table border=\"1\" class=\"dataframe\">\n",
       "  <thead>\n",
       "    <tr style=\"text-align: right;\">\n",
       "      <th></th>\n",
       "      <th>Fiscal Year</th>\n",
       "      <th>Payroll Number</th>\n",
       "      <th>Agency Name</th>\n",
       "      <th>Agency Start Date</th>\n",
       "      <th>Work Location Borough</th>\n",
       "      <th>Title Description</th>\n",
       "      <th>Leave Status as of June 30</th>\n",
       "      <th>Base Salary</th>\n",
       "      <th>Pay Basis</th>\n",
       "      <th>Regular Hours</th>\n",
       "      <th>Regular Gross Paid</th>\n",
       "      <th>OT Hours</th>\n",
       "      <th>Total OT Paid</th>\n",
       "      <th>Total Other Pay</th>\n",
       "      <th>employee_id</th>\n",
       "    </tr>\n",
       "  </thead>\n",
       "  <tbody>\n",
       "    <tr>\n",
       "      <th>0</th>\n",
       "      <td>2020</td>\n",
       "      <td>17.0</td>\n",
       "      <td>OFFICE OF EMERGENCY MANAGEMENT</td>\n",
       "      <td>08/10/2015</td>\n",
       "      <td>BROOKLYN</td>\n",
       "      <td>EMERGENCY PREPAREDNESS MANAGER</td>\n",
       "      <td>ACTIVE</td>\n",
       "      <td>86005.0</td>\n",
       "      <td>per Annum</td>\n",
       "      <td>1820.0</td>\n",
       "      <td>84698.21</td>\n",
       "      <td>0.0</td>\n",
       "      <td>0.0</td>\n",
       "      <td>0.0</td>\n",
       "      <td>emgiazxy</td>\n",
       "    </tr>\n",
       "    <tr>\n",
       "      <th>1</th>\n",
       "      <td>2020</td>\n",
       "      <td>17.0</td>\n",
       "      <td>OFFICE OF EMERGENCY MANAGEMENT</td>\n",
       "      <td>09/12/2016</td>\n",
       "      <td>BROOKLYN</td>\n",
       "      <td>EMERGENCY PREPAREDNESS MANAGER</td>\n",
       "      <td>ACTIVE</td>\n",
       "      <td>86005.0</td>\n",
       "      <td>per Annum</td>\n",
       "      <td>1820.0</td>\n",
       "      <td>84698.21</td>\n",
       "      <td>0.0</td>\n",
       "      <td>0.0</td>\n",
       "      <td>0.0</td>\n",
       "      <td>qcekinkp</td>\n",
       "    </tr>\n",
       "    <tr>\n",
       "      <th>2</th>\n",
       "      <td>2020</td>\n",
       "      <td>17.0</td>\n",
       "      <td>OFFICE OF EMERGENCY MANAGEMENT</td>\n",
       "      <td>02/22/2016</td>\n",
       "      <td>BROOKLYN</td>\n",
       "      <td>EMERGENCY PREPAREDNESS MANAGER</td>\n",
       "      <td>ACTIVE</td>\n",
       "      <td>86005.0</td>\n",
       "      <td>per Annum</td>\n",
       "      <td>1820.0</td>\n",
       "      <td>84698.21</td>\n",
       "      <td>0.0</td>\n",
       "      <td>0.0</td>\n",
       "      <td>0.0</td>\n",
       "      <td>vihcvktl</td>\n",
       "    </tr>\n",
       "    <tr>\n",
       "      <th>3</th>\n",
       "      <td>2020</td>\n",
       "      <td>17.0</td>\n",
       "      <td>OFFICE OF EMERGENCY MANAGEMENT</td>\n",
       "      <td>09/16/2013</td>\n",
       "      <td>BROOKLYN</td>\n",
       "      <td>EMERGENCY PREPAREDNESS MANAGER</td>\n",
       "      <td>ACTIVE</td>\n",
       "      <td>86005.0</td>\n",
       "      <td>per Annum</td>\n",
       "      <td>1820.0</td>\n",
       "      <td>84698.21</td>\n",
       "      <td>0.0</td>\n",
       "      <td>0.0</td>\n",
       "      <td>0.0</td>\n",
       "      <td>ototwwxb</td>\n",
       "    </tr>\n",
       "    <tr>\n",
       "      <th>4</th>\n",
       "      <td>2020</td>\n",
       "      <td>17.0</td>\n",
       "      <td>OFFICE OF EMERGENCY MANAGEMENT</td>\n",
       "      <td>04/30/2018</td>\n",
       "      <td>BROOKLYN</td>\n",
       "      <td>EMERGENCY PREPAREDNESS MANAGER</td>\n",
       "      <td>ACTIVE</td>\n",
       "      <td>86005.0</td>\n",
       "      <td>per Annum</td>\n",
       "      <td>1820.0</td>\n",
       "      <td>84698.21</td>\n",
       "      <td>0.0</td>\n",
       "      <td>0.0</td>\n",
       "      <td>0.0</td>\n",
       "      <td>oskpiihm</td>\n",
       "    </tr>\n",
       "  </tbody>\n",
       "</table>\n",
       "</div>"
      ],
      "text/plain": [
       "   Fiscal Year  Payroll Number                     Agency Name  \\\n",
       "0         2020            17.0  OFFICE OF EMERGENCY MANAGEMENT   \n",
       "1         2020            17.0  OFFICE OF EMERGENCY MANAGEMENT   \n",
       "2         2020            17.0  OFFICE OF EMERGENCY MANAGEMENT   \n",
       "3         2020            17.0  OFFICE OF EMERGENCY MANAGEMENT   \n",
       "4         2020            17.0  OFFICE OF EMERGENCY MANAGEMENT   \n",
       "\n",
       "  Agency Start Date Work Location Borough               Title Description  \\\n",
       "0        08/10/2015              BROOKLYN  EMERGENCY PREPAREDNESS MANAGER   \n",
       "1        09/12/2016              BROOKLYN  EMERGENCY PREPAREDNESS MANAGER   \n",
       "2        02/22/2016              BROOKLYN  EMERGENCY PREPAREDNESS MANAGER   \n",
       "3        09/16/2013              BROOKLYN  EMERGENCY PREPAREDNESS MANAGER   \n",
       "4        04/30/2018              BROOKLYN  EMERGENCY PREPAREDNESS MANAGER   \n",
       "\n",
       "  Leave Status as of June 30  Base Salary  Pay Basis  Regular Hours  \\\n",
       "0                     ACTIVE      86005.0  per Annum         1820.0   \n",
       "1                     ACTIVE      86005.0  per Annum         1820.0   \n",
       "2                     ACTIVE      86005.0  per Annum         1820.0   \n",
       "3                     ACTIVE      86005.0  per Annum         1820.0   \n",
       "4                     ACTIVE      86005.0  per Annum         1820.0   \n",
       "\n",
       "   Regular Gross Paid  OT Hours  Total OT Paid  Total Other Pay employee_id  \n",
       "0            84698.21       0.0            0.0              0.0    emgiazxy  \n",
       "1            84698.21       0.0            0.0              0.0    qcekinkp  \n",
       "2            84698.21       0.0            0.0              0.0    vihcvktl  \n",
       "3            84698.21       0.0            0.0              0.0    ototwwxb  \n",
       "4            84698.21       0.0            0.0              0.0    oskpiihm  "
      ]
     },
     "execution_count": 6,
     "metadata": {},
     "output_type": "execute_result"
    }
   ],
   "source": [
    "df.head()"
   ]
  },
  {
   "cell_type": "code",
   "execution_count": 7,
   "id": "56869319",
   "metadata": {},
   "outputs": [
    {
     "data": {
      "text/plain": [
       "(4915337, 15)"
      ]
     },
     "execution_count": 7,
     "metadata": {},
     "output_type": "execute_result"
    }
   ],
   "source": [
    "df.shape"
   ]
  },
  {
   "cell_type": "code",
   "execution_count": 8,
   "id": "e58ffb5a",
   "metadata": {},
   "outputs": [
    {
     "data": {
      "text/html": [
       "<div>\n",
       "<style scoped>\n",
       "    .dataframe tbody tr th:only-of-type {\n",
       "        vertical-align: middle;\n",
       "    }\n",
       "\n",
       "    .dataframe tbody tr th {\n",
       "        vertical-align: top;\n",
       "    }\n",
       "\n",
       "    .dataframe thead th {\n",
       "        text-align: right;\n",
       "    }\n",
       "</style>\n",
       "<table border=\"1\" class=\"dataframe\">\n",
       "  <thead>\n",
       "    <tr style=\"text-align: right;\">\n",
       "      <th></th>\n",
       "      <th>Fiscal Year</th>\n",
       "      <th>Payroll Number</th>\n",
       "      <th>Base Salary</th>\n",
       "      <th>Regular Hours</th>\n",
       "      <th>Regular Gross Paid</th>\n",
       "      <th>OT Hours</th>\n",
       "      <th>Total OT Paid</th>\n",
       "      <th>Total Other Pay</th>\n",
       "    </tr>\n",
       "  </thead>\n",
       "  <tbody>\n",
       "    <tr>\n",
       "      <th>count</th>\n",
       "      <td>4.915337e+06</td>\n",
       "      <td>3.234063e+06</td>\n",
       "      <td>4.915337e+06</td>\n",
       "      <td>4.915337e+06</td>\n",
       "      <td>4.915337e+06</td>\n",
       "      <td>4.915337e+06</td>\n",
       "      <td>4.915337e+06</td>\n",
       "      <td>4.915337e+06</td>\n",
       "    </tr>\n",
       "    <tr>\n",
       "      <th>mean</th>\n",
       "      <td>2.018074e+03</td>\n",
       "      <td>5.736013e+02</td>\n",
       "      <td>4.231114e+04</td>\n",
       "      <td>6.705228e+02</td>\n",
       "      <td>4.166508e+04</td>\n",
       "      <td>6.448972e+01</td>\n",
       "      <td>3.409022e+03</td>\n",
       "      <td>2.954736e+03</td>\n",
       "    </tr>\n",
       "    <tr>\n",
       "      <th>std</th>\n",
       "      <td>2.577118e+00</td>\n",
       "      <td>3.008655e+02</td>\n",
       "      <td>4.194309e+04</td>\n",
       "      <td>8.886410e+02</td>\n",
       "      <td>3.953947e+04</td>\n",
       "      <td>1.663559e+02</td>\n",
       "      <td>9.521246e+03</td>\n",
       "      <td>5.727339e+03</td>\n",
       "    </tr>\n",
       "    <tr>\n",
       "      <th>min</th>\n",
       "      <td>2.014000e+03</td>\n",
       "      <td>2.000000e+00</td>\n",
       "      <td>1.000000e-02</td>\n",
       "      <td>0.000000e+00</td>\n",
       "      <td>0.000000e+00</td>\n",
       "      <td>0.000000e+00</td>\n",
       "      <td>0.000000e+00</td>\n",
       "      <td>0.000000e+00</td>\n",
       "    </tr>\n",
       "    <tr>\n",
       "      <th>25%</th>\n",
       "      <td>2.016000e+03</td>\n",
       "      <td>3.000000e+02</td>\n",
       "      <td>3.318000e+01</td>\n",
       "      <td>0.000000e+00</td>\n",
       "      <td>3.131120e+03</td>\n",
       "      <td>0.000000e+00</td>\n",
       "      <td>0.000000e+00</td>\n",
       "      <td>0.000000e+00</td>\n",
       "    </tr>\n",
       "    <tr>\n",
       "      <th>50%</th>\n",
       "      <td>2.018000e+03</td>\n",
       "      <td>7.420000e+02</td>\n",
       "      <td>4.100300e+04</td>\n",
       "      <td>0.000000e+00</td>\n",
       "      <td>3.518840e+04</td>\n",
       "      <td>0.000000e+00</td>\n",
       "      <td>0.000000e+00</td>\n",
       "      <td>4.311000e+01</td>\n",
       "    </tr>\n",
       "    <tr>\n",
       "      <th>75%</th>\n",
       "      <td>2.020000e+03</td>\n",
       "      <td>7.470000e+02</td>\n",
       "      <td>7.656500e+04</td>\n",
       "      <td>1.820000e+03</td>\n",
       "      <td>7.363837e+04</td>\n",
       "      <td>1.500000e+00</td>\n",
       "      <td>1.496900e+02</td>\n",
       "      <td>3.389850e+03</td>\n",
       "    </tr>\n",
       "    <tr>\n",
       "      <th>max</th>\n",
       "      <td>2.022000e+03</td>\n",
       "      <td>9.960000e+02</td>\n",
       "      <td>4.147070e+05</td>\n",
       "      <td>4.171430e+03</td>\n",
       "      <td>6.723089e+05</td>\n",
       "      <td>3.692900e+03</td>\n",
       "      <td>2.559999e+05</td>\n",
       "      <td>6.500000e+05</td>\n",
       "    </tr>\n",
       "  </tbody>\n",
       "</table>\n",
       "</div>"
      ],
      "text/plain": [
       "        Fiscal Year  Payroll Number   Base Salary  Regular Hours  \\\n",
       "count  4.915337e+06    3.234063e+06  4.915337e+06   4.915337e+06   \n",
       "mean   2.018074e+03    5.736013e+02  4.231114e+04   6.705228e+02   \n",
       "std    2.577118e+00    3.008655e+02  4.194309e+04   8.886410e+02   \n",
       "min    2.014000e+03    2.000000e+00  1.000000e-02   0.000000e+00   \n",
       "25%    2.016000e+03    3.000000e+02  3.318000e+01   0.000000e+00   \n",
       "50%    2.018000e+03    7.420000e+02  4.100300e+04   0.000000e+00   \n",
       "75%    2.020000e+03    7.470000e+02  7.656500e+04   1.820000e+03   \n",
       "max    2.022000e+03    9.960000e+02  4.147070e+05   4.171430e+03   \n",
       "\n",
       "       Regular Gross Paid      OT Hours  Total OT Paid  Total Other Pay  \n",
       "count        4.915337e+06  4.915337e+06   4.915337e+06     4.915337e+06  \n",
       "mean         4.166508e+04  6.448972e+01   3.409022e+03     2.954736e+03  \n",
       "std          3.953947e+04  1.663559e+02   9.521246e+03     5.727339e+03  \n",
       "min          0.000000e+00  0.000000e+00   0.000000e+00     0.000000e+00  \n",
       "25%          3.131120e+03  0.000000e+00   0.000000e+00     0.000000e+00  \n",
       "50%          3.518840e+04  0.000000e+00   0.000000e+00     4.311000e+01  \n",
       "75%          7.363837e+04  1.500000e+00   1.496900e+02     3.389850e+03  \n",
       "max          6.723089e+05  3.692900e+03   2.559999e+05     6.500000e+05  "
      ]
     },
     "execution_count": 8,
     "metadata": {},
     "output_type": "execute_result"
    }
   ],
   "source": [
    "df.describe()"
   ]
  },
  {
   "cell_type": "code",
   "execution_count": 9,
   "id": "6c20a28b",
   "metadata": {},
   "outputs": [
    {
     "name": "stdout",
     "output_type": "stream",
     "text": [
      "<class 'pandas.core.frame.DataFrame'>\n",
      "RangeIndex: 4915337 entries, 0 to 4915336\n",
      "Data columns (total 15 columns):\n",
      " #   Column                      Dtype  \n",
      "---  ------                      -----  \n",
      " 0   Fiscal Year                 int64  \n",
      " 1   Payroll Number              float64\n",
      " 2   Agency Name                 object \n",
      " 3   Agency Start Date           object \n",
      " 4   Work Location Borough       object \n",
      " 5   Title Description           object \n",
      " 6   Leave Status as of June 30  object \n",
      " 7   Base Salary                 float64\n",
      " 8   Pay Basis                   object \n",
      " 9   Regular Hours               float64\n",
      " 10  Regular Gross Paid          float64\n",
      " 11  OT Hours                    float64\n",
      " 12  Total OT Paid               float64\n",
      " 13  Total Other Pay             float64\n",
      " 14  employee_id                 object \n",
      "dtypes: float64(7), int64(1), object(7)\n",
      "memory usage: 562.5+ MB\n"
     ]
    }
   ],
   "source": [
    "df.info()"
   ]
  },
  {
   "cell_type": "code",
   "execution_count": 16,
   "id": "a9079388",
   "metadata": {},
   "outputs": [],
   "source": [
    "#save clean data as csv ready for analysis\n",
    "df.to_csv(os.path.join(preparedDataPath, 'payroll_clean.csv'))"
   ]
  },
  {
   "cell_type": "code",
   "execution_count": 10,
   "id": "5951d39b",
   "metadata": {},
   "outputs": [
    {
     "data": {
      "text/plain": [
       "0          False\n",
       "1          False\n",
       "2          False\n",
       "3          False\n",
       "4          False\n",
       "           ...  \n",
       "4915332    False\n",
       "4915333    False\n",
       "4915334    False\n",
       "4915335    False\n",
       "4915336    False\n",
       "Length: 4915337, dtype: bool"
      ]
     },
     "execution_count": 10,
     "metadata": {},
     "output_type": "execute_result"
    }
   ],
   "source": [
    "df.duplicated()"
   ]
  },
  {
   "cell_type": "code",
   "execution_count": 14,
   "id": "fc7f67d2",
   "metadata": {},
   "outputs": [
    {
     "data": {
      "text/html": [
       "<div>\n",
       "<style scoped>\n",
       "    .dataframe tbody tr th:only-of-type {\n",
       "        vertical-align: middle;\n",
       "    }\n",
       "\n",
       "    .dataframe tbody tr th {\n",
       "        vertical-align: top;\n",
       "    }\n",
       "\n",
       "    .dataframe thead th {\n",
       "        text-align: right;\n",
       "    }\n",
       "</style>\n",
       "<table border=\"1\" class=\"dataframe\">\n",
       "  <thead>\n",
       "    <tr style=\"text-align: right;\">\n",
       "      <th></th>\n",
       "      <th>Fiscal Year</th>\n",
       "      <th>Payroll Number</th>\n",
       "      <th>Agency Name</th>\n",
       "      <th>Agency Start Date</th>\n",
       "      <th>Work Location Borough</th>\n",
       "      <th>Title Description</th>\n",
       "      <th>Leave Status as of June 30</th>\n",
       "      <th>Base Salary</th>\n",
       "      <th>Pay Basis</th>\n",
       "      <th>Regular Hours</th>\n",
       "      <th>Regular Gross Paid</th>\n",
       "      <th>OT Hours</th>\n",
       "      <th>Total OT Paid</th>\n",
       "      <th>Total Other Pay</th>\n",
       "      <th>employee_id</th>\n",
       "    </tr>\n",
       "  </thead>\n",
       "  <tbody>\n",
       "    <tr>\n",
       "      <th>0</th>\n",
       "      <td>False</td>\n",
       "      <td>False</td>\n",
       "      <td>False</td>\n",
       "      <td>False</td>\n",
       "      <td>False</td>\n",
       "      <td>False</td>\n",
       "      <td>False</td>\n",
       "      <td>False</td>\n",
       "      <td>False</td>\n",
       "      <td>False</td>\n",
       "      <td>False</td>\n",
       "      <td>False</td>\n",
       "      <td>False</td>\n",
       "      <td>False</td>\n",
       "      <td>False</td>\n",
       "    </tr>\n",
       "    <tr>\n",
       "      <th>1</th>\n",
       "      <td>False</td>\n",
       "      <td>False</td>\n",
       "      <td>False</td>\n",
       "      <td>False</td>\n",
       "      <td>False</td>\n",
       "      <td>False</td>\n",
       "      <td>False</td>\n",
       "      <td>False</td>\n",
       "      <td>False</td>\n",
       "      <td>False</td>\n",
       "      <td>False</td>\n",
       "      <td>False</td>\n",
       "      <td>False</td>\n",
       "      <td>False</td>\n",
       "      <td>False</td>\n",
       "    </tr>\n",
       "    <tr>\n",
       "      <th>2</th>\n",
       "      <td>False</td>\n",
       "      <td>False</td>\n",
       "      <td>False</td>\n",
       "      <td>False</td>\n",
       "      <td>False</td>\n",
       "      <td>False</td>\n",
       "      <td>False</td>\n",
       "      <td>False</td>\n",
       "      <td>False</td>\n",
       "      <td>False</td>\n",
       "      <td>False</td>\n",
       "      <td>False</td>\n",
       "      <td>False</td>\n",
       "      <td>False</td>\n",
       "      <td>False</td>\n",
       "    </tr>\n",
       "    <tr>\n",
       "      <th>3</th>\n",
       "      <td>False</td>\n",
       "      <td>False</td>\n",
       "      <td>False</td>\n",
       "      <td>False</td>\n",
       "      <td>False</td>\n",
       "      <td>False</td>\n",
       "      <td>False</td>\n",
       "      <td>False</td>\n",
       "      <td>False</td>\n",
       "      <td>False</td>\n",
       "      <td>False</td>\n",
       "      <td>False</td>\n",
       "      <td>False</td>\n",
       "      <td>False</td>\n",
       "      <td>False</td>\n",
       "    </tr>\n",
       "    <tr>\n",
       "      <th>4</th>\n",
       "      <td>False</td>\n",
       "      <td>False</td>\n",
       "      <td>False</td>\n",
       "      <td>False</td>\n",
       "      <td>False</td>\n",
       "      <td>False</td>\n",
       "      <td>False</td>\n",
       "      <td>False</td>\n",
       "      <td>False</td>\n",
       "      <td>False</td>\n",
       "      <td>False</td>\n",
       "      <td>False</td>\n",
       "      <td>False</td>\n",
       "      <td>False</td>\n",
       "      <td>False</td>\n",
       "    </tr>\n",
       "    <tr>\n",
       "      <th>...</th>\n",
       "      <td>...</td>\n",
       "      <td>...</td>\n",
       "      <td>...</td>\n",
       "      <td>...</td>\n",
       "      <td>...</td>\n",
       "      <td>...</td>\n",
       "      <td>...</td>\n",
       "      <td>...</td>\n",
       "      <td>...</td>\n",
       "      <td>...</td>\n",
       "      <td>...</td>\n",
       "      <td>...</td>\n",
       "      <td>...</td>\n",
       "      <td>...</td>\n",
       "      <td>...</td>\n",
       "    </tr>\n",
       "    <tr>\n",
       "      <th>4915332</th>\n",
       "      <td>False</td>\n",
       "      <td>False</td>\n",
       "      <td>False</td>\n",
       "      <td>False</td>\n",
       "      <td>False</td>\n",
       "      <td>False</td>\n",
       "      <td>False</td>\n",
       "      <td>False</td>\n",
       "      <td>False</td>\n",
       "      <td>False</td>\n",
       "      <td>False</td>\n",
       "      <td>False</td>\n",
       "      <td>False</td>\n",
       "      <td>False</td>\n",
       "      <td>False</td>\n",
       "    </tr>\n",
       "    <tr>\n",
       "      <th>4915333</th>\n",
       "      <td>False</td>\n",
       "      <td>False</td>\n",
       "      <td>False</td>\n",
       "      <td>False</td>\n",
       "      <td>False</td>\n",
       "      <td>False</td>\n",
       "      <td>False</td>\n",
       "      <td>False</td>\n",
       "      <td>False</td>\n",
       "      <td>False</td>\n",
       "      <td>False</td>\n",
       "      <td>False</td>\n",
       "      <td>False</td>\n",
       "      <td>False</td>\n",
       "      <td>False</td>\n",
       "    </tr>\n",
       "    <tr>\n",
       "      <th>4915334</th>\n",
       "      <td>False</td>\n",
       "      <td>False</td>\n",
       "      <td>False</td>\n",
       "      <td>False</td>\n",
       "      <td>False</td>\n",
       "      <td>False</td>\n",
       "      <td>False</td>\n",
       "      <td>False</td>\n",
       "      <td>False</td>\n",
       "      <td>False</td>\n",
       "      <td>False</td>\n",
       "      <td>False</td>\n",
       "      <td>False</td>\n",
       "      <td>False</td>\n",
       "      <td>False</td>\n",
       "    </tr>\n",
       "    <tr>\n",
       "      <th>4915335</th>\n",
       "      <td>False</td>\n",
       "      <td>False</td>\n",
       "      <td>False</td>\n",
       "      <td>False</td>\n",
       "      <td>False</td>\n",
       "      <td>False</td>\n",
       "      <td>False</td>\n",
       "      <td>False</td>\n",
       "      <td>False</td>\n",
       "      <td>False</td>\n",
       "      <td>False</td>\n",
       "      <td>False</td>\n",
       "      <td>False</td>\n",
       "      <td>False</td>\n",
       "      <td>False</td>\n",
       "    </tr>\n",
       "    <tr>\n",
       "      <th>4915336</th>\n",
       "      <td>False</td>\n",
       "      <td>False</td>\n",
       "      <td>False</td>\n",
       "      <td>False</td>\n",
       "      <td>False</td>\n",
       "      <td>False</td>\n",
       "      <td>False</td>\n",
       "      <td>False</td>\n",
       "      <td>False</td>\n",
       "      <td>False</td>\n",
       "      <td>False</td>\n",
       "      <td>False</td>\n",
       "      <td>False</td>\n",
       "      <td>False</td>\n",
       "      <td>False</td>\n",
       "    </tr>\n",
       "  </tbody>\n",
       "</table>\n",
       "<p>4915337 rows × 15 columns</p>\n",
       "</div>"
      ],
      "text/plain": [
       "         Fiscal Year  Payroll Number  Agency Name  Agency Start Date  \\\n",
       "0              False           False        False              False   \n",
       "1              False           False        False              False   \n",
       "2              False           False        False              False   \n",
       "3              False           False        False              False   \n",
       "4              False           False        False              False   \n",
       "...              ...             ...          ...                ...   \n",
       "4915332        False           False        False              False   \n",
       "4915333        False           False        False              False   \n",
       "4915334        False           False        False              False   \n",
       "4915335        False           False        False              False   \n",
       "4915336        False           False        False              False   \n",
       "\n",
       "         Work Location Borough  Title Description  Leave Status as of June 30  \\\n",
       "0                        False              False                       False   \n",
       "1                        False              False                       False   \n",
       "2                        False              False                       False   \n",
       "3                        False              False                       False   \n",
       "4                        False              False                       False   \n",
       "...                        ...                ...                         ...   \n",
       "4915332                  False              False                       False   \n",
       "4915333                  False              False                       False   \n",
       "4915334                  False              False                       False   \n",
       "4915335                  False              False                       False   \n",
       "4915336                  False              False                       False   \n",
       "\n",
       "         Base Salary  Pay Basis  Regular Hours  Regular Gross Paid  OT Hours  \\\n",
       "0              False      False          False               False     False   \n",
       "1              False      False          False               False     False   \n",
       "2              False      False          False               False     False   \n",
       "3              False      False          False               False     False   \n",
       "4              False      False          False               False     False   \n",
       "...              ...        ...            ...                 ...       ...   \n",
       "4915332        False      False          False               False     False   \n",
       "4915333        False      False          False               False     False   \n",
       "4915334        False      False          False               False     False   \n",
       "4915335        False      False          False               False     False   \n",
       "4915336        False      False          False               False     False   \n",
       "\n",
       "         Total OT Paid  Total Other Pay  employee_id  \n",
       "0                False            False        False  \n",
       "1                False            False        False  \n",
       "2                False            False        False  \n",
       "3                False            False        False  \n",
       "4                False            False        False  \n",
       "...                ...              ...          ...  \n",
       "4915332          False            False        False  \n",
       "4915333          False            False        False  \n",
       "4915334          False            False        False  \n",
       "4915335          False            False        False  \n",
       "4915336          False            False        False  \n",
       "\n",
       "[4915337 rows x 15 columns]"
      ]
     },
     "execution_count": 14,
     "metadata": {},
     "output_type": "execute_result"
    }
   ],
   "source": [
    "df.isnull()"
   ]
  },
  {
   "cell_type": "code",
   "execution_count": 15,
   "id": "69276e98",
   "metadata": {},
   "outputs": [
    {
     "data": {
      "text/plain": [
       "ACTIVE                 4202676\n",
       "CEASED                  606303\n",
       "ON LEAVE                 55462\n",
       "SEASONAL                 42113\n",
       "ON SEPARATION LEAVE       8783\n",
       "Name: Leave Status as of June 30, dtype: int64"
      ]
     },
     "execution_count": 15,
     "metadata": {},
     "output_type": "execute_result"
    }
   ],
   "source": [
    "df['Leave Status as of June 30'].value_counts(dropna=False)"
   ]
  },
  {
   "cell_type": "code",
   "execution_count": null,
   "id": "bb18d230",
   "metadata": {},
   "outputs": [],
   "source": []
  }
 ],
 "metadata": {
  "kernelspec": {
   "display_name": "Python 3 (ipykernel)",
   "language": "python",
   "name": "python3"
  },
  "language_info": {
   "codemirror_mode": {
    "name": "ipython",
    "version": 3
   },
   "file_extension": ".py",
   "mimetype": "text/x-python",
   "name": "python",
   "nbconvert_exporter": "python",
   "pygments_lexer": "ipython3",
   "version": "3.10.9"
  }
 },
 "nbformat": 4,
 "nbformat_minor": 5
}
